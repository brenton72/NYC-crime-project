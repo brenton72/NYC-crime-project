{
 "cells": [
  {
   "cell_type": "code",
   "execution_count": 1,
   "metadata": {
    "collapsed": false
   },
   "outputs": [
    {
     "name": "stderr",
     "output_type": "stream",
     "text": [
      "//anaconda/envs/mypy27/lib/python2.7/site-packages/matplotlib/font_manager.py:273: UserWarning: Matplotlib is building the font cache using fc-list. This may take a moment.\n",
      "  warnings.warn('Matplotlib is building the font cache using fc-list. This may take a moment.')\n"
     ]
    }
   ],
   "source": [
    "import pandas as pd\n",
    "import numpy as np\n",
    "import matplotlib.pyplot as plt\n",
    "import seaborn\n",
    "import scipy\n",
    "from datetime import datetime, timedelta\n",
    "import datetime\n",
    "import time\n",
    "%matplotlib inline"
   ]
  },
  {
   "cell_type": "markdown",
   "metadata": {},
   "source": [
    "## Compare the weeks where neighboring weeks' DST differ\n",
    "\n",
    "Attempt to isolate effect of DST by using the first and last weeks of DST as our sample and their neighboring non-DST weeks as the control."
   ]
  },
  {
   "cell_type": "code",
   "execution_count": 29,
   "metadata": {
    "collapsed": false
   },
   "outputs": [
    {
     "name": "stderr",
     "output_type": "stream",
     "text": [
      "/anaconda/envs/mypy27/lib/python2.7/site-packages/ipykernel/__main__.py:11: FutureWarning: sort(columns=....) is deprecated, use sort_values(by=.....)\n"
     ]
    },
    {
     "data": {
      "text/html": [
       "<div>\n",
       "<table border=\"1\" class=\"dataframe\">\n",
       "  <thead>\n",
       "    <tr style=\"text-align: right;\">\n",
       "      <th></th>\n",
       "      <th>Type</th>\n",
       "      <th>date</th>\n",
       "      <th>weekday</th>\n",
       "      <th>dst</th>\n",
       "      <th>crimes</th>\n",
       "    </tr>\n",
       "  </thead>\n",
       "  <tbody>\n",
       "    <tr>\n",
       "      <th>136</th>\n",
       "      <td>FELONY</td>\n",
       "      <td>2006-03-27</td>\n",
       "      <td>0</td>\n",
       "      <td>0</td>\n",
       "      <td>466</td>\n",
       "    </tr>\n",
       "    <tr>\n",
       "      <th>600</th>\n",
       "      <td>MISDEMEANOR</td>\n",
       "      <td>2006-03-27</td>\n",
       "      <td>0</td>\n",
       "      <td>0</td>\n",
       "      <td>815</td>\n",
       "    </tr>\n",
       "    <tr>\n",
       "      <th>993</th>\n",
       "      <td>VIOLATION</td>\n",
       "      <td>2006-03-27</td>\n",
       "      <td>0</td>\n",
       "      <td>0</td>\n",
       "      <td>223</td>\n",
       "    </tr>\n",
       "    <tr>\n",
       "      <th>604</th>\n",
       "      <td>MISDEMEANOR</td>\n",
       "      <td>2006-03-28</td>\n",
       "      <td>1</td>\n",
       "      <td>0</td>\n",
       "      <td>833</td>\n",
       "    </tr>\n",
       "    <tr>\n",
       "      <th>139</th>\n",
       "      <td>FELONY</td>\n",
       "      <td>2006-03-28</td>\n",
       "      <td>1</td>\n",
       "      <td>0</td>\n",
       "      <td>476</td>\n",
       "    </tr>\n",
       "  </tbody>\n",
       "</table>\n",
       "</div>"
      ],
      "text/plain": [
       "            Type       date  weekday  dst  crimes\n",
       "136       FELONY 2006-03-27        0    0     466\n",
       "600  MISDEMEANOR 2006-03-27        0    0     815\n",
       "993    VIOLATION 2006-03-27        0    0     223\n",
       "604  MISDEMEANOR 2006-03-28        1    0     833\n",
       "139       FELONY 2006-03-28        1    0     476"
      ]
     },
     "execution_count": 29,
     "metadata": {},
     "output_type": "execute_result"
    }
   ],
   "source": [
    "dst_df = pd.read_csv('dst_wk_day.out', header=None)\n",
    "dst_df = dst_df.rename(index=str, columns={0: 'Type', 1: 'date', 2: 'weekday', 3: 'dst', 4: 'crimes'})\n",
    "dst_df.Type = dst_df.Type.str.strip(to_strip = \"(\").str.strip(to_strip = \"'\")\n",
    "dst_df.date = pd.to_datetime(dst_df.date.str.strip().str.strip(to_strip = \"'\"),infer_datetime_format=True)\n",
    "dst_df.dst = pd.to_numeric(dst_df.dst.str.strip(to_strip = \")\"))\n",
    "dst_df.crimes = pd.to_numeric(dst_df.crimes.str.strip(to_strip = \")\"))\n",
    "\n",
    "dst_df = dst_df[dst_df.weekday >= 0]\n",
    "dst_df = dst_df[dst_df.dst >= 0]\n",
    "dst_df = dst_df[dst_df.date >= datetime.date(2006,1,1)]\n",
    "dst_df = dst_df.sort(columns='date')\n",
    "dst_df.head()\n"
   ]
  },
  {
   "cell_type": "code",
   "execution_count": 30,
   "metadata": {
    "collapsed": false
   },
   "outputs": [],
   "source": [
    "table_nodst = dst_df[dst_df.dst==0].pivot_table(values='crimes', index=['date'], columns=['Type'], aggfunc=np.sum)\n",
    "table_dst = dst_df[dst_df.dst==1].pivot_table(values='crimes', index=['date'], columns=['Type'], aggfunc=np.sum)"
   ]
  },
  {
   "cell_type": "code",
   "execution_count": 45,
   "metadata": {
    "collapsed": false
   },
   "outputs": [
    {
     "data": {
      "text/html": [
       "<div>\n",
       "<table border=\"1\" class=\"dataframe\">\n",
       "  <thead>\n",
       "    <tr style=\"text-align: right;\">\n",
       "      <th>Type</th>\n",
       "      <th>FELONY</th>\n",
       "      <th>MISDEMEANOR</th>\n",
       "      <th>VIOLATION</th>\n",
       "    </tr>\n",
       "    <tr>\n",
       "      <th>date</th>\n",
       "      <th></th>\n",
       "      <th></th>\n",
       "      <th></th>\n",
       "    </tr>\n",
       "  </thead>\n",
       "  <tbody>\n",
       "    <tr>\n",
       "      <th>2006-03-27</th>\n",
       "      <td>466</td>\n",
       "      <td>815</td>\n",
       "      <td>223</td>\n",
       "    </tr>\n",
       "    <tr>\n",
       "      <th>2006-03-28</th>\n",
       "      <td>476</td>\n",
       "      <td>833</td>\n",
       "      <td>195</td>\n",
       "    </tr>\n",
       "    <tr>\n",
       "      <th>2006-03-29</th>\n",
       "      <td>467</td>\n",
       "      <td>823</td>\n",
       "      <td>178</td>\n",
       "    </tr>\n",
       "    <tr>\n",
       "      <th>2006-03-30</th>\n",
       "      <td>466</td>\n",
       "      <td>800</td>\n",
       "      <td>174</td>\n",
       "    </tr>\n",
       "    <tr>\n",
       "      <th>2006-03-31</th>\n",
       "      <td>475</td>\n",
       "      <td>807</td>\n",
       "      <td>199</td>\n",
       "    </tr>\n",
       "  </tbody>\n",
       "</table>\n",
       "</div>"
      ],
      "text/plain": [
       "Type        FELONY  MISDEMEANOR  VIOLATION\n",
       "date                                      \n",
       "2006-03-27     466          815        223\n",
       "2006-03-28     476          833        195\n",
       "2006-03-29     467          823        178\n",
       "2006-03-30     466          800        174\n",
       "2006-03-31     475          807        199"
      ]
     },
     "execution_count": 45,
     "metadata": {},
     "output_type": "execute_result"
    }
   ],
   "source": [
    "table_nodst.head(5)"
   ]
  },
  {
   "cell_type": "code",
   "execution_count": 44,
   "metadata": {
    "collapsed": false
   },
   "outputs": [
    {
     "data": {
      "text/html": [
       "<div>\n",
       "<table border=\"1\" class=\"dataframe\">\n",
       "  <thead>\n",
       "    <tr style=\"text-align: right;\">\n",
       "      <th>Type</th>\n",
       "      <th>FELONY</th>\n",
       "      <th>MISDEMEANOR</th>\n",
       "      <th>VIOLATION</th>\n",
       "    </tr>\n",
       "    <tr>\n",
       "      <th>date</th>\n",
       "      <th></th>\n",
       "      <th></th>\n",
       "      <th></th>\n",
       "    </tr>\n",
       "  </thead>\n",
       "  <tbody>\n",
       "    <tr>\n",
       "      <th>2006-04-03</th>\n",
       "      <td>396</td>\n",
       "      <td>762</td>\n",
       "      <td>221</td>\n",
       "    </tr>\n",
       "    <tr>\n",
       "      <th>2006-04-04</th>\n",
       "      <td>477</td>\n",
       "      <td>854</td>\n",
       "      <td>184</td>\n",
       "    </tr>\n",
       "    <tr>\n",
       "      <th>2006-04-05</th>\n",
       "      <td>455</td>\n",
       "      <td>857</td>\n",
       "      <td>188</td>\n",
       "    </tr>\n",
       "    <tr>\n",
       "      <th>2006-04-06</th>\n",
       "      <td>484</td>\n",
       "      <td>880</td>\n",
       "      <td>215</td>\n",
       "    </tr>\n",
       "    <tr>\n",
       "      <th>2006-04-07</th>\n",
       "      <td>556</td>\n",
       "      <td>872</td>\n",
       "      <td>208</td>\n",
       "    </tr>\n",
       "  </tbody>\n",
       "</table>\n",
       "</div>"
      ],
      "text/plain": [
       "Type        FELONY  MISDEMEANOR  VIOLATION\n",
       "date                                      \n",
       "2006-04-03     396          762        221\n",
       "2006-04-04     477          854        184\n",
       "2006-04-05     455          857        188\n",
       "2006-04-06     484          880        215\n",
       "2006-04-07     556          872        208"
      ]
     },
     "execution_count": 44,
     "metadata": {},
     "output_type": "execute_result"
    }
   ],
   "source": [
    "table_dst.head(5)"
   ]
  },
  {
   "cell_type": "code",
   "execution_count": 43,
   "metadata": {
    "collapsed": false
   },
   "outputs": [
    {
     "name": "stdout",
     "output_type": "stream",
     "text": [
      "          F     M     V\n"
     ]
    },
    {
     "data": {
      "text/plain": [
       "array([[ -70,  -53,   -2],\n",
       "       [   1,   21,  -11],\n",
       "       [ -12,   34,   10],\n",
       "       [  18,   80,   41],\n",
       "       [  81,   65,    9],\n",
       "       [-129, -240,  -22],\n",
       "       [ -27,   -2,  -36],\n",
       "       [  42,  -62,   35],\n",
       "       [ -90,  -91,  -35],\n",
       "       [-147, -269,  -71],\n",
       "       [ -11,   62,  -16],\n",
       "       [ -26,  103,   -2],\n",
       "       [  79,  -20,   -8],\n",
       "       [   4,  107,    2],\n",
       "       [  32,   80,   28],\n",
       "       [ 119,  200,   26],\n",
       "       [  69,   89,   40],\n",
       "       [  38,   79,   32],\n",
       "       [-107, -227,   -7],\n",
       "       [-144, -270,  -45],\n",
       "       [ -25,  -44,   -9],\n",
       "       [ -42,  -61,  -15],\n",
       "       [   7,  100,   49],\n",
       "       [  85,  110,   28],\n",
       "       [ 130,  243,   57],\n",
       "       [ -27,   70,   22],\n",
       "       [ -18,   26,   21],\n",
       "       [   0,   10,   32],\n",
       "       [ -18,   57,    3],\n",
       "       [ -17,   17,   13],\n",
       "       [ -31,   67,   15],\n",
       "       [  52, -122,   30],\n",
       "       [  28,  -42,   -1],\n",
       "       [ 101,  -19,   47],\n",
       "       [ -38,   31,    9],\n",
       "       [  20,   36,    2],\n",
       "       [   1,  -32,   -5],\n",
       "       [ -33,   -7,   13],\n",
       "       [  10,   -2,    4],\n",
       "       [  -3,  -15,  -11],\n",
       "       [ 147,  209,   39],\n",
       "       [ -32,  -29,   -4],\n",
       "       [ 113,  244,   47],\n",
       "       [  83,  246,   27],\n",
       "       [  91,  135,   45],\n",
       "       [ -14,  -14,  -26],\n",
       "       [ -27,   47,  -17],\n",
       "       [ -59,  -50,  -21],\n",
       "       [ -20,  105,    3],\n",
       "       [ -29,  -72,   37],\n",
       "       [  10,   14,   20],\n",
       "       [ -12,  -81,  -11],\n",
       "       [  43,  -51,    8],\n",
       "       [  62,   68,    1],\n",
       "       [  85,   16,   37],\n",
       "       [  80,  237,   54],\n",
       "       [  15,  -71,    6],\n",
       "       [  44,  -47,   26],\n",
       "       [  -4,  -15,  -25],\n",
       "       [  34,    0,   20],\n",
       "       [  64,   49,    7],\n",
       "       [ 115,  265,   40],\n",
       "       [  42,  129,   40],\n",
       "       [  75,  219,   -4],\n",
       "       [  -4, -122,  -39],\n",
       "       [   2, -106,    0],\n",
       "       [   3,  -73,   42],\n",
       "       [ -22,  -47,    5],\n",
       "       [ -33,  -61,  -26],\n",
       "       [  -6,   19,   12],\n",
       "       [  56,   27,   -7],\n",
       "       [  74,   69,  -22],\n",
       "       [ -17,  -45,   -7],\n",
       "       [  55,   43,  -11],\n",
       "       [ -60,   46,   21],\n",
       "       [  -6,  -78,  -15],\n",
       "       [  17,   61,   -5],\n",
       "       [  16, -102,  -33],\n",
       "       [ 169,  203,   53],\n",
       "       [ -20,  -83,    0],\n",
       "       [ -37,  -25,    0],\n",
       "       [  24,   57,   31],\n",
       "       [  39,  -13,  -25],\n",
       "       [ -59,   -4,    5],\n",
       "       [  61,   73,    0],\n",
       "       [  40,   83,    8],\n",
       "       [ -11,   47,   41],\n",
       "       [  21,  -48,   -2],\n",
       "       [  26,  -12,  -12],\n",
       "       [  29,   41,   26],\n",
       "       [  41,  137,   21],\n",
       "       [ -69, -129,  -63],\n",
       "       [ -24,  -87,  -11],\n",
       "       [  59,  105,   31],\n",
       "       [  73,   96,   25],\n",
       "       [ -77, -181,  -21],\n",
       "       [ -54, -182,    2],\n",
       "       [ -17, -100,   14],\n",
       "       [  16,   64,   13],\n",
       "       [ -47,  -62,   -8],\n",
       "       [  63,  174,   20],\n",
       "       [  12,   53,   10],\n",
       "       [  36,  122,   33],\n",
       "       [ -13,  -84,    1],\n",
       "       [  17,  -26,   -5],\n",
       "       [  54,  102,    5],\n",
       "       [  29,   54,    9],\n",
       "       [  68,   62,    9],\n",
       "       [ 122,   57,    7],\n",
       "       [ 103,  123,   86],\n",
       "       [  47,    1,   20],\n",
       "       [ -68,  -67,   36],\n",
       "       [  61,   94,    9],\n",
       "       [   2,   75,   10],\n",
       "       [  44,  -44,   20],\n",
       "       [ -35,   13,   11],\n",
       "       [ -43,    9,   14],\n",
       "       [   6,  126,   36],\n",
       "       [  -3,   59,   18],\n",
       "       [  35,   11,   34],\n",
       "       [ -12,   62,   39],\n",
       "       [ -17,  -46,   30],\n",
       "       [  18,   34,   36],\n",
       "       [  43,   -1,   32],\n",
       "       [  60,    3,    1],\n",
       "       [ -16,  -47,   -9],\n",
       "       [  39,  123,   17],\n",
       "       [  26,  106,   45],\n",
       "       [  29,   98,  -28],\n",
       "       [  60,  139,   17],\n",
       "       [  21,   78,   15],\n",
       "       [  52,  -23,   13],\n",
       "       [   3,  180,   14],\n",
       "       [ -23,   46,   -9],\n",
       "       [ -16,  -68,   48],\n",
       "       [ -81, -223,  -22],\n",
       "       [ -45,   39,    5],\n",
       "       [   0,   34,  -40],\n",
       "       [  72,   28,   -5],\n",
       "       [  77,  217,   46]])"
      ]
     },
     "execution_count": 43,
     "metadata": {},
     "output_type": "execute_result"
    }
   ],
   "source": [
    "types_dst_diff = table_dst.values - table_nodst.values\n",
    "print '          F     M     V'\n",
    "types_dst_diff"
   ]
  },
  {
   "cell_type": "code",
   "execution_count": 40,
   "metadata": {
    "collapsed": false
   },
   "outputs": [
    {
     "data": {
      "text/plain": [
       "Ttest_1sampResult(statistic=array([ 2.88537778,  2.43311539,  4.33382588]), pvalue=array([  4.53352539e-03,   1.62399389e-02,   2.79208360e-05]))"
      ]
     },
     "execution_count": 40,
     "metadata": {},
     "output_type": "execute_result"
    }
   ],
   "source": [
    "scipy.stats.ttest_1samp(types_dst_diff, 0, axis=0)"
   ]
  },
  {
   "cell_type": "markdown",
   "metadata": {},
   "source": [
    "#### Conclusion: All crime types seems to be significantly higher on DST weeks than non-DST weeks when factoring in year, season and weekday"
   ]
  },
  {
   "cell_type": "markdown",
   "metadata": {},
   "source": [
    "#### Plotting the differences in crime counts for test vs. control for different crime types"
   ]
  },
  {
   "cell_type": "code",
   "execution_count": 65,
   "metadata": {
    "collapsed": false
   },
   "outputs": [
    {
     "data": {
      "text/plain": [
       "<matplotlib.legend.Legend at 0x11393b310>"
      ]
     },
     "execution_count": 65,
     "metadata": {},
     "output_type": "execute_result"
    },
    {
     "data": {
      "image/png": "[encoded data removed]",
      "text/plain": [
       "<matplotlib.figure.Figure at 0x113674510>"
      ]
     },
     "metadata": {},
     "output_type": "display_data"
    }
   ],
   "source": [
    "plt.scatter(table_dst.index, types_dst_diff[:,0], label='Felonies')\n",
    "plt.scatter(table_dst.index, types_dst_diff[:,1], label='Misdemeanors', color='r')\n",
    "plt.scatter(table_dst.index, types_dst_diff[:,2], label='Violations', color='g')\n",
    "plt.axhline(y=0,color='k', linestyle='--')\n",
    "plt.ylabel('Difference from Control')\n",
    "plt.legend(loc=4)"
   ]
  },
  {
   "cell_type": "markdown",
   "metadata": {
    "collapsed": true
   },
   "source": [
    "### Testing DST's effect on crime at the borough level"
   ]
  },
  {
   "cell_type": "code",
   "execution_count": 76,
   "metadata": {
    "collapsed": false
   },
   "outputs": [
    {
     "name": "stderr",
     "output_type": "stream",
     "text": [
      "/anaconda/envs/mypy27/lib/python2.7/site-packages/ipykernel/__main__.py:11: FutureWarning: sort(columns=....) is deprecated, use sort_values(by=.....)\n"
     ]
    },
    {
     "data": {
      "text/html": [
       "<div>\n",
       "<table border=\"1\" class=\"dataframe\">\n",
       "  <thead>\n",
       "    <tr style=\"text-align: right;\">\n",
       "      <th></th>\n",
       "      <th>boro</th>\n",
       "      <th>date</th>\n",
       "      <th>weekday</th>\n",
       "      <th>dst</th>\n",
       "      <th>crimes</th>\n",
       "    </tr>\n",
       "  </thead>\n",
       "  <tbody>\n",
       "    <tr>\n",
       "      <th>159</th>\n",
       "      <td>BRONX</td>\n",
       "      <td>2006-03-27</td>\n",
       "      <td>0</td>\n",
       "      <td>0</td>\n",
       "      <td>372</td>\n",
       "    </tr>\n",
       "    <tr>\n",
       "      <th>556</th>\n",
       "      <td>BROOKLYN</td>\n",
       "      <td>2006-03-27</td>\n",
       "      <td>0</td>\n",
       "      <td>0</td>\n",
       "      <td>428</td>\n",
       "    </tr>\n",
       "    <tr>\n",
       "      <th>1350</th>\n",
       "      <td>QUEENS</td>\n",
       "      <td>2006-03-27</td>\n",
       "      <td>0</td>\n",
       "      <td>0</td>\n",
       "      <td>298</td>\n",
       "    </tr>\n",
       "    <tr>\n",
       "      <th>970</th>\n",
       "      <td>MANHATTAN</td>\n",
       "      <td>2006-03-27</td>\n",
       "      <td>0</td>\n",
       "      <td>0</td>\n",
       "      <td>326</td>\n",
       "    </tr>\n",
       "    <tr>\n",
       "      <th>1726</th>\n",
       "      <td>STATEN ISLAND</td>\n",
       "      <td>2006-03-27</td>\n",
       "      <td>0</td>\n",
       "      <td>0</td>\n",
       "      <td>77</td>\n",
       "    </tr>\n",
       "  </tbody>\n",
       "</table>\n",
       "</div>"
      ],
      "text/plain": [
       "               boro       date  weekday  dst  crimes\n",
       "159           BRONX 2006-03-27        0    0     372\n",
       "556        BROOKLYN 2006-03-27        0    0     428\n",
       "1350         QUEENS 2006-03-27        0    0     298\n",
       "970       MANHATTAN 2006-03-27        0    0     326\n",
       "1726  STATEN ISLAND 2006-03-27        0    0      77"
      ]
     },
     "execution_count": 76,
     "metadata": {},
     "output_type": "execute_result"
    }
   ],
   "source": [
    "dst_df_boro = pd.read_csv('dst_wk_day_boro.out', header=None)\n",
    "dst_df_boro = dst_df_boro.rename(index=str, columns={0: 'boro', 1: 'date', 2: 'weekday', 3: 'dst', 4: 'crimes'})\n",
    "dst_df_boro.boro = dst_df_boro.boro.str.strip(to_strip = \"(\").str.strip(to_strip = \"'\")\n",
    "dst_df_boro.date = pd.to_datetime(dst_df_boro.date.str.strip().str.strip(to_strip = \"'\"),infer_datetime_format=True)\n",
    "dst_df_boro.dst = pd.to_numeric(dst_df_boro.dst.str.strip(to_strip = \")\"))\n",
    "dst_df_boro.crimes = pd.to_numeric(dst_df_boro.crimes.str.strip(to_strip = \")\"))\n",
    "\n",
    "dst_df_boro = dst_df_boro[dst_df_boro.weekday >= 0]\n",
    "dst_df_boro = dst_df_boro[dst_df_boro.dst >= 0]\n",
    "dst_df_boro = dst_df_boro[dst_df_boro.date >= datetime.date(2006,1,1)]\n",
    "dst_df_boro = dst_df_boro.sort(columns='date')\n",
    "dst_df_boro = dst_df_boro[dst_df_boro.boro != '']\n",
    "dst_df_boro.head()"
   ]
  },
  {
   "cell_type": "code",
   "execution_count": 79,
   "metadata": {
    "collapsed": false
   },
   "outputs": [],
   "source": [
    "table_nodst_boro = dst_df_boro[dst_df_boro.dst==0].pivot_table(values='crimes', index=['date'], columns=['boro'], aggfunc=np.sum)\n",
    "table_dst_boro = dst_df_boro[dst_df_boro.dst==1].pivot_table(values='crimes', index=['date'], columns=['boro'], aggfunc=np.sum)"
   ]
  },
  {
   "cell_type": "code",
   "execution_count": 89,
   "metadata": {
    "collapsed": false
   },
   "outputs": [
    {
     "name": "stdout",
     "output_type": "stream",
     "text": [
      "          BX    BK    MN    QN    SI\n"
     ]
    },
    {
     "data": {
      "text/plain": [
       "array([[ -77,  -13,  -17,   -7,   -9],\n",
       "       [  47,   -8,  -12,  -10,   -7],\n",
       "       [  41,  -44,    7,    5,   23],\n",
       "       [  59,   31,   13,   31,    5],\n",
       "       [  14,   53,   61,   41,  -18],\n",
       "       [ -68,  -95,  -85, -113,  -26],\n",
       "       [  10,  -48,   12,  -37,   -1],\n",
       "       [  15,  -47,   46,    3,   -2],\n",
       "       [  26,  -99,   -4, -107,  -32],\n",
       "       [-134, -109, -109,  -99,  -36],\n",
       "       [  17,   13,  -11,    9,    7],\n",
       "       [  56,   62,    9,  -37,  -15],\n",
       "       [  30,   39,   15,  -22,  -11],\n",
       "       [  77,   28,   49,  -47,    6],\n",
       "       [  24,   39,   78,    2,   -3],\n",
       "       [  85,   87,  112,   53,    8],\n",
       "       [  76,   54,   53,   13,    2],\n",
       "       [  77,   47,   11,    0,   14],\n",
       "       [ -97,  -81,  -69,  -69,  -25],\n",
       "       [ -44, -155, -147,  -71,  -42],\n",
       "       [  -8,  -71,    5,    6,  -10],\n",
       "       [ -43,   43,  -40,  -53,  -25],\n",
       "       [  47,   66,  -10,   26,   27],\n",
       "       [  -6,   85,   44,   67,   33],\n",
       "       [  60,  113,   97,  129,   31],\n",
       "       [ -10,   90,  -21,   10,   -4],\n",
       "       [  21,   56,  -33,  -12,   -3],\n",
       "       [  -2,   46,  -32,   25,    5],\n",
       "       [ -21,  -34,   30,   56,   11],\n",
       "       [  -3,   31,  -12,  -11,    8],\n",
       "       [   7,   30,   26,   -2,  -10],\n",
       "       [   9,  -32,  -23,   -1,    7],\n",
       "       [  -4,  -25,   15,  -33,   32],\n",
       "       [  31,    7,   44,   34,   13],\n",
       "       [   6,  -10,   13,  -22,   15],\n",
       "       [  29,   34,    1,   -5,   -1],\n",
       "       [   4,   27,  -17,  -38,  -12],\n",
       "       [   3,  -49,   26,  -22,   15],\n",
       "       [  22,  -49,    5,   22,   12],\n",
       "       [   3,   -3,  -33,    7,   -3],\n",
       "       [  42,  124,  115,   87,   27],\n",
       "       [ -39,   -5,   -5,   -6,  -10],\n",
       "       [  92,  137,   75,   81,   19],\n",
       "       [  77,  125,   52,   81,   21],\n",
       "       [  62,  110,   23,   60,   16],\n",
       "       [  -1,  -15,  -56,   14,    4],\n",
       "       [ -17,    2,   28,   -4,   -6],\n",
       "       [ -50,   -7,  -39,  -30,   -4],\n",
       "       [ -10,   40,    7,   55,   -4],\n",
       "       [  -3,  -10,    5,  -44,  -12],\n",
       "       [  -5,   39,    2,   23,  -15],\n",
       "       [ -17,  -68,   10,  -16,  -13],\n",
       "       [  -7,  -19,   43,  -28,   11],\n",
       "       [  -1,   15,   69,   19,   29],\n",
       "       [  16,   91,   28,   13,  -10],\n",
       "       [  28,   74,  123,  112,   34],\n",
       "       [   4,  -22,  -31,    5,   -6],\n",
       "       [  42,  -13,   13,  -36,   17],\n",
       "       [ -65,   -6,   35,  -13,    5],\n",
       "       [ -10,  -12,   68,   10,   -2],\n",
       "       [  68,    7,    4,   34,    7],\n",
       "       [ 106,   84,  139,   68,   23],\n",
       "       [  -7,   39,  103,   56,   20],\n",
       "       [  48,  101,   93,   39,    9],\n",
       "       [ -46,  -45,  -23,  -39,  -12],\n",
       "       [ -41,   -7,  -55,  -28,   27],\n",
       "       [ -32,  -12,  -16,   28,    4],\n",
       "       [ -55,  -21,    6,    8,   -2],\n",
       "       [ -57,   32, -123,   50,  -22],\n",
       "       [  13,   13,    5,   -9,    3],\n",
       "       [  28,   53,   -3,   12,  -14],\n",
       "       [  28,   48,   -7,   53,   -1],\n",
       "       [ -14,  -15,   -1,  -55,   16],\n",
       "       [  25,    7,   63,  -31,   23],\n",
       "       [  21,   -2,   14,  -35,    9],\n",
       "       [ -59,   18,  -26,  -28,   -4],\n",
       "       [ -10,   32,   12,   26,   13],\n",
       "       [ -17,  -38,  -10,  -60,    6],\n",
       "       [  77,   89,  112,  102,   45],\n",
       "       [ -29,  -49,  -52,    7,   20],\n",
       "       [  13,  -18,    0,  -33,  -24],\n",
       "       [  35,   42,  -11,   36,   10],\n",
       "       [  -7,   14,  -18,    9,    3],\n",
       "       [ -11,    3,   -4,  -17,  -29],\n",
       "       [  71,    3,   19,   52,  -11],\n",
       "       [  30,   57,   21,   20,    3],\n",
       "       [  54,   -9,   39,    2,   -9],\n",
       "       [   7,  -38,  -15,   15,    2],\n",
       "       [ -10,   -2,   23,  -15,    6],\n",
       "       [  10,   13,   77,  -10,    6],\n",
       "       [  30,   59,   25,   66,   19],\n",
       "       [ -87,  -61, -112,  -29,   28],\n",
       "       [ -27,  -37, -134,   45,   31],\n",
       "       [  38,  105,  -22,   65,    9],\n",
       "       [  42,   66,   -9,   82,   13],\n",
       "       [ -71,  -48, -101,  -65,    6],\n",
       "       [ -28,  -61,  -97,  -26,  -22],\n",
       "       [   5,  -21,  -37,  -49,   -1],\n",
       "       [  10,   20,   51,   10,    2],\n",
       "       [ -13,  -46,  -48,  -25,   14],\n",
       "       [  30,   88,   52,   76,   11],\n",
       "       [  64,  -17,   10,   29,  -11],\n",
       "       [  30,   51,   34,   65,   11],\n",
       "       [ -17,  -77,   -4,   25,  -23],\n",
       "       [  -3,    8,   -7,  -34,   22],\n",
       "       [  59,   52,   38,    8,    4],\n",
       "       [   4,   50,   22,   22,   -6],\n",
       "       [  44,   28,   24,   34,    9],\n",
       "       [ -22,  114,   51,   19,   24],\n",
       "       [  37,   52,   60,  130,   33],\n",
       "       [  36,   58,  -38,   18,   -6],\n",
       "       [  -9,  -33,  -34,  -14,   -9],\n",
       "       [  57,   21,   56,   20,   10],\n",
       "       [  37,   17,   -8,   25,   16],\n",
       "       [  47,  -32,  -22,   13,   14],\n",
       "       [  67,   -2,  -72,  -18,   14],\n",
       "       [ -12,   29,  -55,   17,    1],\n",
       "       [  57,  -21,   45,   59,   28],\n",
       "       [  66,   10,    1,  -10,    7],\n",
       "       [  62,   40,  -16,   -8,    2],\n",
       "       [  13,   40,  -21,   42,   15],\n",
       "       [  -3,   13,  -21,  -18,   -4],\n",
       "       [  29,   29,   36,   -4,   -2],\n",
       "       [  18,   11,  -30,   50,   25],\n",
       "       [ -26,   42,    0,   40,    8],\n",
       "       [ -10,   -7,  -26,  -39,   10],\n",
       "       [  29,   34,   21,   43,   52],\n",
       "       [  82,   21,  -14,   79,    9],\n",
       "       [  13,   52,   49,    1,  -16],\n",
       "       [  38,   80,   67,   17,   14],\n",
       "       [  36,   38,   18,   25,   -3],\n",
       "       [   7,   16,   18,   23,  -22],\n",
       "       [  53,   35,   17,  105,  -13],\n",
       "       [ -23,   -6,   20,    5,   18],\n",
       "       [   6,   -7,  -40,  -14,   19],\n",
       "       [ -71, -111, -120,  -15,   -9],\n",
       "       [  30,   -6,  -35,  -13,   23],\n",
       "       [  18,  -17,  -19,   -1,   13],\n",
       "       [ -26,   24,   41,   55,    1],\n",
       "       [  47,   72,  124,   90,    7]])"
      ]
     },
     "execution_count": 89,
     "metadata": {},
     "output_type": "execute_result"
    }
   ],
   "source": [
    "boros_dst_diff = table_dst_boro.values - table_nodst_boro.values\n",
    "print '          BX    BK    MN    QN    SI'\n",
    "boros_dst_diff"
   ]
  },
  {
   "cell_type": "code",
   "execution_count": 90,
   "metadata": {
    "collapsed": false
   },
   "outputs": [
    {
     "data": {
      "text/plain": [
       "Ttest_1sampResult(statistic=array([ 3.15515903,  3.0167789 ,  1.24868891,  2.63955037,  3.08562669]), pvalue=array([ 0.00196668,  0.00303896,  0.21387786,  0.00924991,  0.0024517 ]))"
      ]
     },
     "execution_count": 90,
     "metadata": {},
     "output_type": "execute_result"
    }
   ],
   "source": [
    "scipy.stats.ttest_1samp(boros_dst_diff, 0, axis=0)"
   ]
  },
  {
   "cell_type": "markdown",
   "metadata": {},
   "source": [
    "Conclusion: We can reject the null hypothesis that there is no affect of DST on crime in all boroughs except Manhattan, as all of the other 4 boroughs have higher crime rates on test days (DST) compared with control days (Non-DST)"
   ]
  },
  {
   "cell_type": "code",
   "execution_count": null,
   "metadata": {
    "collapsed": true
   },
   "outputs": [],
   "source": []
  }
 ],
 "metadata": {
  "anaconda-cloud": {},
  "kernelspec": {
   "display_name": "Python [conda env:mypy27]",
   "language": "python",
   "name": "conda-env-mypy27-py"
  },
  "language_info": {
   "codemirror_mode": {
    "name": "ipython",
    "version": 2
   },
   "file_extension": ".py",
   "mimetype": "text/x-python",
   "name": "python",
   "nbconvert_exporter": "python",
   "pygments_lexer": "ipython2",
   "version": "2.7.12"
  }
 },
 "nbformat": 4,
 "nbformat_minor": 0
}
