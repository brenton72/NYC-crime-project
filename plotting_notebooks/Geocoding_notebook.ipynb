{
 "cells": [
  {
   "cell_type": "markdown",
   "metadata": {},
   "source": [
    "# Notebook to calculate zipcodes based on lat-lon coordinates"
   ]
  },
  {
   "cell_type": "code",
   "execution_count": 216,
   "metadata": {
    "collapsed": false
   },
   "outputs": [],
   "source": [
    "import numpy as np\n",
    "import pandas as pd\n",
    "import sys\n",
    "import json\n",
    "import os\n",
    "import shapely\n",
    "import shapely.geometry\n",
    "from shapely.geometry import Point, Polygon, MultiPolygon, shape\n",
    "import urllib.request as ulr\n",
    "from googleplaces import GooglePlaces, types, lang\n",
    "YOUR_API_KEY = os.environ['GOOGLE_API_KEY']\n",
    "#YOUR_API_KEY = <Put your GooglePlaces-enabled Google API Key here>"
   ]
  },
  {
   "cell_type": "code",
   "execution_count": 7,
   "metadata": {
    "collapsed": true
   },
   "outputs": [],
   "source": [
    "pd.set_option('max_rows', 10)"
   ]
  },
  {
   "cell_type": "markdown",
   "metadata": {},
   "source": [
    "## Load crime lat-lon data"
   ]
  },
  {
   "cell_type": "code",
   "execution_count": 8,
   "metadata": {
    "collapsed": false
   },
   "outputs": [
    {
     "data": {
      "text/html": [
       "<div>\n",
       "<table border=\"1\" class=\"dataframe\">\n",
       "  <thead>\n",
       "    <tr style=\"text-align: right;\">\n",
       "      <th></th>\n",
       "      <th>lat</th>\n",
       "      <th>lon</th>\n",
       "      <th>crimes</th>\n",
       "    </tr>\n",
       "  </thead>\n",
       "  <tbody>\n",
       "    <tr>\n",
       "      <th>0</th>\n",
       "      <td>40.675955</td>\n",
       "      <td>-73.735304</td>\n",
       "      <td>5.0</td>\n",
       "    </tr>\n",
       "    <tr>\n",
       "      <th>1</th>\n",
       "      <td>40.804214</td>\n",
       "      <td>-73.964751</td>\n",
       "      <td>188.0</td>\n",
       "    </tr>\n",
       "    <tr>\n",
       "      <th>2</th>\n",
       "      <td>40.670460</td>\n",
       "      <td>-73.882559</td>\n",
       "      <td>65.0</td>\n",
       "    </tr>\n",
       "    <tr>\n",
       "      <th>3</th>\n",
       "      <td>40.822017</td>\n",
       "      <td>-73.938915</td>\n",
       "      <td>266.0</td>\n",
       "    </tr>\n",
       "    <tr>\n",
       "      <th>4</th>\n",
       "      <td>40.749871</td>\n",
       "      <td>-73.898905</td>\n",
       "      <td>63.0</td>\n",
       "    </tr>\n",
       "  </tbody>\n",
       "</table>\n",
       "</div>"
      ],
      "text/plain": [
       "         lat        lon  crimes\n",
       "0  40.675955 -73.735304     5.0\n",
       "1  40.804214 -73.964751   188.0\n",
       "2  40.670460 -73.882559    65.0\n",
       "3  40.822017 -73.938915   266.0\n",
       "4  40.749871 -73.898905    63.0"
      ]
     },
     "execution_count": 8,
     "metadata": {},
     "output_type": "execute_result"
    }
   ],
   "source": [
    "crime_latlon_df = pd.read_csv('crime_latlon.out', header=None)\n",
    "crime_latlon_df[0] = pd.to_numeric(crime_latlon_df[0].str.strip(to_strip = '('))\n",
    "crime_latlon_df[1] = crime_latlon_df[1].str.strip(to_strip = ')').str.strip()\n",
    "crime_latlon_df[1] = pd.to_numeric(crime_latlon_df[1])\n",
    "crime_latlon_df[2] = pd.to_numeric(crime_latlon_df[2])\n",
    "crime_latlon_df = crime_latlon_df.dropna(axis=0)\n",
    "crime_latlon_df = crime_latlon_df.rename(index=str, columns={0:'lat',1:'lon',2:'crimes'})\n",
    "crime_latlon_df.head()"
   ]
  },
  {
   "cell_type": "markdown",
   "metadata": {},
   "source": [
    "## Match zipcodes based on shapefile (Fastest)"
   ]
  },
  {
   "cell_type": "markdown",
   "metadata": {},
   "source": [
    "### Load in shapefile of NYC Zip Code geometries"
   ]
  },
  {
   "cell_type": "code",
   "execution_count": null,
   "metadata": {
    "collapsed": true
   },
   "outputs": [],
   "source": [
    "import json\n",
    "\n",
    "with open('NYC_zipcodes.geojson') as f:\n",
    "    data = json.load(f)\n",
    "polys = []\n",
    "for i in range(len(data['features'])):\n",
    "    polys.append(Polygon(data['features'][i]['geometry']['coordinates'][0]))"
   ]
  },
  {
   "cell_type": "code",
   "execution_count": null,
   "metadata": {
    "collapsed": true
   },
   "outputs": [],
   "source": [
    "geo_lat = []\n",
    "geo_lon = []\n",
    "geo_zip = []\n",
    "search_failures_geo = []\n",
    "failure_index_geo = []\n",
    "ct_geo = 0"
   ]
  },
  {
   "cell_type": "code",
   "execution_count": null,
   "metadata": {
    "collapsed": true
   },
   "outputs": [],
   "source": [
    "from tqdm import tqdm \n",
    "import time\n",
    "\n",
    "#Adjust the range as needed for missing values\n",
    "for i in tqdm(np.arange(start_index,end_index)):\n",
    "    try:\n",
    "        success = 0\n",
    "        lat = crime_latlon_df['lat'][i]\n",
    "        lon = crime_latlon_df['lon'][i]\n",
    "        pt = Point(crime_latlon_df['lon'][i],crime_latlon_df['lat'][i])\n",
    "        for j in range(len(data['features'])):\n",
    "            if polys[j].contains(pt):\n",
    "                geo_zip.append(data['features'][j]['properties']['postalCode'])\n",
    "                success = 1\n",
    "                break\n",
    "        if success == 0:\n",
    "            geo_zip.append('ZIP_NOT_FOUND')\n",
    "        geo_lat.append(lat)\n",
    "        geo_lon.append(lon)\n",
    "        \n",
    "\n",
    "    except:\n",
    "        ct = ct + 1\n",
    "        geo_lat.append(crime_latlon_df['lat'][i])\n",
    "        geo_lon.append(crime_latlon_df['lon'][i])\n",
    "        geo_zip.append('SEARCH FAILURE')\n",
    "        search_failures_geo.append((crime_latlon_df['lat'][i],crime_latlon_df['lon'][i]))\n",
    "        failure_index_geo.append(i)\n",
    "        if np.mod(ct_geo,25) == 0:\n",
    "            print('Failure ' + str(ct_geo) + ': ' + str((crime_latlon_df['lat'][i],crime_latlon_df['lon'][i])))\n",
    "\n",
    "   "
   ]
  },
  {
   "cell_type": "code",
   "execution_count": null,
   "metadata": {
    "collapsed": true
   },
   "outputs": [],
   "source": [
    "df_zips = pd.DataFrame([geo_lat, geo_lon, geo_zip]).T\n",
    "df_zips = df_zips.rename(index=str, columns={0: 'lat', 1: 'lon', 2: 'zipcode'})\n",
    "df_merged = df_zips.merge(crime_latlon_df, on=['lat','lon'])\n",
    "\n",
    "df_merged"
   ]
  },
  {
   "cell_type": "code",
   "execution_count": null,
   "metadata": {
    "collapsed": true
   },
   "outputs": [],
   "source": [
    "out_file_name = 'crime_latlon_zips.csv'\n",
    "df_merged.to_csv(out_file_name)"
   ]
  },
  {
   "cell_type": "markdown",
   "metadata": {},
   "source": [
    "### Alternative Method: GooglePlaces API"
   ]
  },
  {
   "cell_type": "code",
   "execution_count": 112,
   "metadata": {
    "collapsed": false
   },
   "outputs": [],
   "source": [
    "#Grabbing and parsing the JSON data\n",
    "def GoogPlac(lat,lng,radius,key):\n",
    "    #making the url\n",
    "    AUTH_KEY = key\n",
    "    LOCATION = str(lat) + \",\" + str(lng)\n",
    "    RADIUS = radius\n",
    "    MyUrl = ('https://maps.googleapis.com/maps/api/place/nearbysearch/json'\n",
    "             '?location=%s'\n",
    "             '&radius=%s'\n",
    "             #'&types=%s'\n",
    "             '&sensor=false&key=%s') % (LOCATION, RADIUS,AUTH_KEY)\n",
    "    #grabbing the JSON result\n",
    "    response = ulr.urlopen(MyUrl)\n",
    "    data = response.read().decode(\"utf-8\")\n",
    "    data = json.loads(data)\n",
    "    return data\n",
    "\n",
    "def GoogGeocode(lat,lng,key):\n",
    "    #making the url\n",
    "    AUTH_KEY = key\n",
    "    url = (\"https://maps.googleapis.com/maps/api/geocode/json?latlng=\" + str(lat) +','+ str(lng) + '&key=' + AUTH_KEY)\n",
    "    #grabbing the JSON result\n",
    "    response = ulr.urlopen(url)\n",
    "    data = response.read().decode(\"utf-8\")\n",
    "    data = json.loads(data)\n",
    "    return data\n",
    "\n",
    "def GoogPlacText(loc,radius,key):\n",
    "    #making the url\n",
    "    AUTH_KEY = key\n",
    "    LOCATION = loc.replace(' ', '+')\n",
    "    RADIUS = radius\n",
    "    MyUrl = ('https://maps.googleapis.com/maps/api/place/textsearch/json'\n",
    "             '?query=%s'\n",
    "             '&radius=%s'\n",
    "             '&sensor=false&key=%s') % (LOCATION, RADIUS,AUTH_KEY)\n",
    "    #grabbing the JSON result\n",
    "    response = ulr.urlopen(MyUrl)\n",
    "    data = response.read().decode(\"utf-8\")\n",
    "    data = json.loads(data)\n",
    "    return data\n",
    "\n",
    "def GoogPlacID(ID,key):\n",
    "    AUTH_KEY = key\n",
    "    PLACE_ID = ID\n",
    "    MyUrl = ('https://maps.googleapis.com/maps/api/place/details/json'\n",
    "             '?placeid=%s'\n",
    "             '&key=%s') % (PLACE_ID,AUTH_KEY)\n",
    "    #grabbing the JSON result\n",
    "    response = ulr.urlopen(MyUrl)\n",
    "    data = response.read().decode(\"utf-8\")\n",
    "    data = json.loads(data)\n",
    "    return data\n"
   ]
  },
  {
   "cell_type": "markdown",
   "metadata": {},
   "source": [
    "### Test out geocoding on known address (NYU Stern, zipcode 10012)"
   ]
  },
  {
   "cell_type": "code",
   "execution_count": 9,
   "metadata": {
    "collapsed": false
   },
   "outputs": [
    {
     "name": "stdout",
     "output_type": "stream",
     "text": [
      "10012\n"
     ]
    }
   ],
   "source": [
    "lat,lon = 40.729242, -73.996491\n",
    "query = GoogPlac(lat,lon, 10, YOUR_API_KEY)\n",
    "query2 = GoogPlacID(query['results'][1]['place_id'],YOUR_API_KEY)\n",
    "for i in range(len(query2['result']['address_components'])):\n",
    "    if query2['result']['address_components'][i]['types'] == ['postal_code']:\n",
    "        print(query2['result']['address_components'][i]['long_name'])"
   ]
  },
  {
   "cell_type": "markdown",
   "metadata": {},
   "source": [
    "### Test out geocoding on known address (NYU Tandon, zipcode 11201)"
   ]
  },
  {
   "cell_type": "code",
   "execution_count": 33,
   "metadata": {
    "collapsed": false
   },
   "outputs": [
    {
     "name": "stdout",
     "output_type": "stream",
     "text": [
      "11201\n"
     ]
    }
   ],
   "source": [
    "lat,lon = 40.694187, -73.986558\n",
    "query = GoogPlac(lat,lon, 10, YOUR_API_KEY)\n",
    "query2 = GoogPlacID(query['results'][1]['place_id'],YOUR_API_KEY)\n",
    "for i in range(len(query2['result']['address_components'])):\n",
    "    if query2['result']['address_components'][i]['types'] == ['postal_code']:\n",
    "        print(query2['result']['address_components'][i]['long_name'])"
   ]
  },
  {
   "cell_type": "markdown",
   "metadata": {},
   "source": [
    "### Test out geocoding on known address (Brunswick, ME, zipcode 04011)"
   ]
  },
  {
   "cell_type": "code",
   "execution_count": 35,
   "metadata": {
    "collapsed": false
   },
   "outputs": [
    {
     "name": "stdout",
     "output_type": "stream",
     "text": [
      "04011\n"
     ]
    }
   ],
   "source": [
    "lat,lon = 43.899295, -69.964007\n",
    "query = GoogPlac(lat,lon, 10, YOUR_API_KEY)\n",
    "query2 = GoogPlacID(query['results'][0]['place_id'],YOUR_API_KEY)\n",
    "for i in range(len(query2['result']['address_components'])):\n",
    "    if query2['result']['address_components'][i]['types'] == ['postal_code']:\n",
    "        print(query2['result']['address_components'][i]['long_name'])"
   ]
  },
  {
   "cell_type": "markdown",
   "metadata": {
    "collapsed": false
   },
   "source": [
    "If the location is a dense area, the first hit of the google search is likely the administrative area (multiple zipcodes). If not, the second hit likely will be. We can check both entries and stop once we have a zip code."
   ]
  },
  {
   "cell_type": "markdown",
   "metadata": {},
   "source": [
    "Initialize our storage lists:"
   ]
  },
  {
   "cell_type": "code",
   "execution_count": 10,
   "metadata": {
    "collapsed": false
   },
   "outputs": [],
   "source": [
    "pl_lat = []\n",
    "pl_lon = []\n",
    "pl_zip = []\n",
    "search_failures = []\n",
    "failure_index = []\n",
    "ct = 0"
   ]
  },
  {
   "cell_type": "markdown",
   "metadata": {},
   "source": [
    "Specify our index ranges:"
   ]
  },
  {
   "cell_type": "code",
   "execution_count": 83,
   "metadata": {
    "collapsed": true
   },
   "outputs": [],
   "source": [
    "start_index = 0\n",
    "end_index = len(crime_latlon_df)"
   ]
  },
  {
   "cell_type": "code",
   "execution_count": 32,
   "metadata": {
    "collapsed": false
   },
   "outputs": [
    {
     "name": "stderr",
     "output_type": "stream",
     "text": [
      " 11%|█         | 4615/42826 [32:04<6:54:45,  1.54it/s]"
     ]
    },
    {
     "name": "stdout",
     "output_type": "stream",
     "text": [
      "Failure 425: (40.588189569999997, -73.962251093000006)\n"
     ]
    },
    {
     "name": "stderr",
     "output_type": "stream",
     "text": [
      " 25%|██▌       | 10878/42826 [1:15:18<6:28:51,  1.37it/s]"
     ]
    },
    {
     "name": "stdout",
     "output_type": "stream",
     "text": [
      "Failure 450: (40.844945251999995, -73.883956741999995)\n"
     ]
    },
    {
     "name": "stderr",
     "output_type": "stream",
     "text": [
      " 37%|███▋      | 15664/42826 [1:49:42<6:03:01,  1.25it/s]"
     ]
    },
    {
     "name": "stdout",
     "output_type": "stream",
     "text": [
      "Failure 475: (40.673960452999999, -73.910675632999997)\n"
     ]
    },
    {
     "name": "stderr",
     "output_type": "stream",
     "text": [
      " 52%|█████▏    | 22258/42826 [2:39:12<3:20:22,  1.71it/s]"
     ]
    },
    {
     "name": "stdout",
     "output_type": "stream",
     "text": [
      "Failure 500: (40.633774074000002, -74.127215355000004)\n"
     ]
    },
    {
     "name": "stderr",
     "output_type": "stream",
     "text": [
      " 86%|████████▌ | 36841/42826 [4:58:32<109:53:53, 66.10s/it]"
     ]
    },
    {
     "name": "stdout",
     "output_type": "stream",
     "text": [
      "Failure 525: (40.740608961999996, -73.891619200999997)\n"
     ]
    },
    {
     "name": "stderr",
     "output_type": "stream",
     "text": [
      " 86%|████████▌ | 36873/42826 [4:58:33<2:13:01,  1.34s/it]"
     ]
    },
    {
     "name": "stdout",
     "output_type": "stream",
     "text": [
      "Failure 550: (40.604666434999999, -74.014158162000001)\n"
     ]
    },
    {
     "name": "stderr",
     "output_type": "stream",
     "text": [
      " 86%|████████▌ | 36894/42826 [4:58:34<33:38,  2.94it/s]"
     ]
    },
    {
     "name": "stdout",
     "output_type": "stream",
     "text": [
      "Failure 575: (40.636605175, -73.942734932999997)\n"
     ]
    },
    {
     "name": "stderr",
     "output_type": "stream",
     "text": [
      " 86%|████████▌ | 36924/42826 [4:58:35<07:24, 13.29it/s]"
     ]
    },
    {
     "name": "stdout",
     "output_type": "stream",
     "text": [
      "Failure 600: (40.70090364, -73.904461592000004)\n"
     ]
    },
    {
     "name": "stderr",
     "output_type": "stream",
     "text": [
      " 86%|████████▋ | 36950/42826 [4:58:35<03:19, 29.47it/s]"
     ]
    },
    {
     "name": "stdout",
     "output_type": "stream",
     "text": [
      "Failure 625: (40.595939186999999, -74.086558259)\n"
     ]
    },
    {
     "name": "stderr",
     "output_type": "stream",
     "text": [
      " 86%|████████▋ | 36975/42826 [4:58:35<02:00, 48.75it/s]"
     ]
    },
    {
     "name": "stdout",
     "output_type": "stream",
     "text": [
      "Failure 650: (40.854363526999997, -73.885140433000004)\n"
     ]
    },
    {
     "name": "stderr",
     "output_type": "stream",
     "text": [
      " 86%|████████▋ | 37000/42826 [4:58:36<01:30, 64.55it/s]"
     ]
    },
    {
     "name": "stdout",
     "output_type": "stream",
     "text": [
      "Failure 675: (40.815105133000003, -73.811538095000003)\n"
     ]
    },
    {
     "name": "stderr",
     "output_type": "stream",
     "text": [
      " 86%|████████▋ | 37016/42826 [4:58:36<01:59, 48.79it/s]"
     ]
    },
    {
     "name": "stdout",
     "output_type": "stream",
     "text": [
      "Failure 700: (40.678235608999998, -73.742382488999993)\n"
     ]
    },
    {
     "name": "stderr",
     "output_type": "stream",
     "text": [
      " 87%|████████▋ | 37047/42826 [4:58:37<02:51, 33.66it/s]"
     ]
    },
    {
     "name": "stdout",
     "output_type": "stream",
     "text": [
      "Failure 725: (40.747149094999997, -73.977502911000002)\n"
     ]
    },
    {
     "name": "stderr",
     "output_type": "stream",
     "text": [
      " 87%|████████▋ | 37068/42826 [4:58:37<02:16, 42.31it/s]"
     ]
    },
    {
     "name": "stdout",
     "output_type": "stream",
     "text": [
      "Failure 750: (40.676560021999997, -73.914641461999992)\n"
     ]
    },
    {
     "name": "stderr",
     "output_type": "stream",
     "text": [
      " 87%|████████▋ | 37101/42826 [4:58:38<01:43, 55.36it/s]"
     ]
    },
    {
     "name": "stdout",
     "output_type": "stream",
     "text": [
      "Failure 775: (40.666297598, -73.766374251000002)\n"
     ]
    },
    {
     "name": "stderr",
     "output_type": "stream",
     "text": [
      " 87%|████████▋ | 37124/42826 [4:58:38<01:27, 65.01it/s]"
     ]
    },
    {
     "name": "stdout",
     "output_type": "stream",
     "text": [
      "Failure 800: (40.559047301999996, -74.153772918000001)\n"
     ]
    },
    {
     "name": "stderr",
     "output_type": "stream",
     "text": [
      " 87%|████████▋ | 37149/42826 [4:58:39<01:18, 72.26it/s]"
     ]
    },
    {
     "name": "stdout",
     "output_type": "stream",
     "text": [
      "Failure 825: (40.829042123000001, -73.830530684999999)\n"
     ]
    },
    {
     "name": "stderr",
     "output_type": "stream",
     "text": [
      " 87%|████████▋ | 37174/42826 [4:58:39<01:21, 69.57it/s]"
     ]
    },
    {
     "name": "stdout",
     "output_type": "stream",
     "text": [
      "Failure 850: (40.678926093999998, -73.922505229999999)\n"
     ]
    },
    {
     "name": "stderr",
     "output_type": "stream",
     "text": [
      " 87%|████████▋ | 37197/42826 [4:58:39<01:30, 62.43it/s]"
     ]
    },
    {
     "name": "stdout",
     "output_type": "stream",
     "text": [
      "Failure 875: (40.666302864999999, -73.982079220000003)\n"
     ]
    },
    {
     "name": "stderr",
     "output_type": "stream",
     "text": [
      " 87%|████████▋ | 37228/42826 [4:58:40<01:18, 70.93it/s]"
     ]
    },
    {
     "name": "stdout",
     "output_type": "stream",
     "text": [
      "Failure 900: (40.703966960999999, -73.819805005000006)\n"
     ]
    },
    {
     "name": "stderr",
     "output_type": "stream",
     "text": [
      " 87%|████████▋ | 37253/42826 [4:58:40<01:19, 69.99it/s]"
     ]
    },
    {
     "name": "stdout",
     "output_type": "stream",
     "text": [
      "Failure 925: (40.590812788000001, -73.926539289999994)\n"
     ]
    },
    {
     "name": "stderr",
     "output_type": "stream",
     "text": [
      "\r",
      " 87%|████████▋ | 37261/42826 [4:58:40<01:23, 66.84it/s]"
     ]
    },
    {
     "name": "stdout",
     "output_type": "stream",
     "text": [
      "Failure 950: (40.755299764, -73.908465863999993)\n"
     ]
    },
    {
     "name": "stderr",
     "output_type": "stream",
     "text": [
      "100%|██████████| 42826/42826 [5:25:47<00:00,  3.70it/s]\n"
     ]
    }
   ],
   "source": [
    "from tqdm import tqdm \n",
    "import time\n",
    "\n",
    "#Adjust the range as needed for missing values\n",
    "for i in tqdm(np.arange(start_index,end_index)):\n",
    "    try:\n",
    "        success = 0\n",
    "        lat = crime_latlon_df['lat'][i]\n",
    "        lon = crime_latlon_df['lon'][i]\n",
    "        query = GoogPlac(lat,lon, 10, YOUR_API_KEY)\n",
    "        for j in range(2):\n",
    "            if success == 0:\n",
    "                query2 = GoogPlacID(query['results'][j]['place_id'],YOUR_API_KEY)\n",
    "                for i in range(len(query2['result']['address_components'])):\n",
    "                    if query2['result']['address_components'][i]['types'] == ['postal_code']:\n",
    "                        pl_zip.append(query2['result']['address_components'][i]['long_name'])\n",
    "                        success = 1\n",
    "                        break\n",
    "        if success == 0:\n",
    "            pl_zip.append('ZIP_NOT_FOUND')\n",
    "        pl_lat.append(lat)\n",
    "        pl_lon.append(lon)\n",
    "\n",
    "\n",
    "    except:\n",
    "        ct = ct + 1\n",
    "        pl_lat.append(crime_latlon_df['lat'][i])\n",
    "        pl_lon.append(crime_latlon_df['lon'][i])\n",
    "        pl_zip.append('SEARCH FAILURE')\n",
    "        search_failures.append((crime_latlon_df['lat'][i],crime_latlon_df['lon'][i]))\n",
    "        failure_index.append(i)\n",
    "        if np.mod(ct,25) == 0:\n",
    "            print('Failure ' + str(ct) + ': ' + str((crime_latlon_df['lat'][i],crime_latlon_df['lon'][i])))\n",
    "\n",
    "   "
   ]
  },
  {
   "cell_type": "code",
   "execution_count": 39,
   "metadata": {
    "collapsed": false
   },
   "outputs": [
    {
     "name": "stdout",
     "output_type": "stream",
     "text": [
      "112826\n",
      "112826\n",
      "112826\n",
      "958\n",
      "958\n"
     ]
    }
   ],
   "source": [
    "print(len(pl_lat))\n",
    "print(len(pl_lon))\n",
    "print(len(pl_zip))\n",
    "print(len(search_failures))\n",
    "print(len(failure_index))"
   ]
  },
  {
   "cell_type": "markdown",
   "metadata": {},
   "source": [
    "### Rerun any latlon pairs that failed (due to internet connectivity)"
   ]
  },
  {
   "cell_type": "code",
   "execution_count": 46,
   "metadata": {
    "collapsed": false
   },
   "outputs": [],
   "source": [
    "pl_lat_fail = []\n",
    "pl_lon_fail = []\n",
    "pl_zip_fail = []\n",
    "search_failures_2 = []\n",
    "failure_index_2 = []\n",
    "ct_fail = 0"
   ]
  },
  {
   "cell_type": "code",
   "execution_count": 47,
   "metadata": {
    "collapsed": false
   },
   "outputs": [
    {
     "name": "stderr",
     "output_type": "stream",
     "text": [
      "100%|██████████| 958/958 [06:16<00:00,  2.46it/s]\n"
     ]
    }
   ],
   "source": [
    "from tqdm import tqdm \n",
    "import time\n",
    "\n",
    "#Adjust the range as needed for missing values\n",
    "for i in tqdm(np.arange(len(failure_index))):\n",
    "    try:\n",
    "        success = 0\n",
    "        lat = pl_lat[failure_index[i]]\n",
    "        lon = pl_lon[failure_index[i]]\n",
    "        query = GoogPlac(lat,lon, 10, YOUR_API_KEY)\n",
    "        for j in range(2):\n",
    "            if success == 0:\n",
    "                query2 = GoogPlacID(query['results'][j]['place_id'],YOUR_API_KEY)\n",
    "                for i in range(len(query2['result']['address_components'])):\n",
    "                    if query2['result']['address_components'][i]['types'] == ['postal_code']:\n",
    "                        pl_zip_fail.append(query2['result']['address_components'][i]['long_name'])\n",
    "                        success = 1\n",
    "                        break\n",
    "        if success == 0:\n",
    "            pl_zip_fail.append('ZIP_NOT_FOUND')\n",
    "        pl_lat_fail.append(lat)\n",
    "        pl_lon_fail.append(lon)\n",
    "\n",
    "\n",
    "    except:\n",
    "        ct_fail = ct_fail + 1\n",
    "        pl_lat_fail.append(pl_lat[failure_index[i]])\n",
    "        pl_lon_fail.append(pl_lat[failure_index[i]])\n",
    "        pl_zip_fail.append('SEARCH FAILURE 2')\n",
    "        search_failures_2.append((pl_lat[failure_index[i]],pl_lon[failure_index[i]]))\n",
    "        failure_index_2.append(i)\n",
    "        if np.mod(ct_fail,25) == 0:\n",
    "            print('Failure ' + str(ct_fail) + ': ' + str((pl_lat[failure_index[i]],pl_lon[failure_index[i]])))\n",
    "\n",
    "   "
   ]
  },
  {
   "cell_type": "markdown",
   "metadata": {},
   "source": [
    "Add in the re-run zipcodes"
   ]
  },
  {
   "cell_type": "code",
   "execution_count": 52,
   "metadata": {
    "collapsed": false
   },
   "outputs": [],
   "source": [
    "for i in range(len(failure_index)):\n",
    "    pl_zip[failure_index[i]] = pl_zip_fail[i]"
   ]
  },
  {
   "cell_type": "markdown",
   "metadata": {},
   "source": [
    "Merge our (partial) zipcode information with the (partial) crime data"
   ]
  },
  {
   "cell_type": "code",
   "execution_count": 53,
   "metadata": {
    "collapsed": false
   },
   "outputs": [
    {
     "data": {
      "text/html": [
       "<div>\n",
       "<table border=\"1\" class=\"dataframe\">\n",
       "  <thead>\n",
       "    <tr style=\"text-align: right;\">\n",
       "      <th></th>\n",
       "      <th>lat</th>\n",
       "      <th>lon</th>\n",
       "      <th>zipcode</th>\n",
       "      <th>crimes</th>\n",
       "    </tr>\n",
       "  </thead>\n",
       "  <tbody>\n",
       "    <tr>\n",
       "      <th>0</th>\n",
       "      <td>40.676</td>\n",
       "      <td>-73.7353</td>\n",
       "      <td>11422</td>\n",
       "      <td>5.0</td>\n",
       "    </tr>\n",
       "    <tr>\n",
       "      <th>1</th>\n",
       "      <td>40.676</td>\n",
       "      <td>-73.7353</td>\n",
       "      <td>SEARCH FAILURE</td>\n",
       "      <td>5.0</td>\n",
       "    </tr>\n",
       "    <tr>\n",
       "      <th>2</th>\n",
       "      <td>40.8042</td>\n",
       "      <td>-73.9648</td>\n",
       "      <td>10025</td>\n",
       "      <td>188.0</td>\n",
       "    </tr>\n",
       "    <tr>\n",
       "      <th>3</th>\n",
       "      <td>40.6705</td>\n",
       "      <td>-73.8826</td>\n",
       "      <td>11208</td>\n",
       "      <td>65.0</td>\n",
       "    </tr>\n",
       "    <tr>\n",
       "      <th>4</th>\n",
       "      <td>40.822</td>\n",
       "      <td>-73.9389</td>\n",
       "      <td>10039</td>\n",
       "      <td>266.0</td>\n",
       "    </tr>\n",
       "    <tr>\n",
       "      <th>...</th>\n",
       "      <td>...</td>\n",
       "      <td>...</td>\n",
       "      <td>...</td>\n",
       "      <td>...</td>\n",
       "    </tr>\n",
       "    <tr>\n",
       "      <th>112821</th>\n",
       "      <td>40.6475</td>\n",
       "      <td>-73.9803</td>\n",
       "      <td>11218</td>\n",
       "      <td>1.0</td>\n",
       "    </tr>\n",
       "    <tr>\n",
       "      <th>112822</th>\n",
       "      <td>40.6076</td>\n",
       "      <td>-74.1358</td>\n",
       "      <td>10314</td>\n",
       "      <td>1.0</td>\n",
       "    </tr>\n",
       "    <tr>\n",
       "      <th>112823</th>\n",
       "      <td>40.6166</td>\n",
       "      <td>-73.9745</td>\n",
       "      <td>11230</td>\n",
       "      <td>1.0</td>\n",
       "    </tr>\n",
       "    <tr>\n",
       "      <th>112824</th>\n",
       "      <td>40.6768</td>\n",
       "      <td>-73.9604</td>\n",
       "      <td>11238</td>\n",
       "      <td>1.0</td>\n",
       "    </tr>\n",
       "    <tr>\n",
       "      <th>112825</th>\n",
       "      <td>40.5469</td>\n",
       "      <td>-74.1421</td>\n",
       "      <td>10308</td>\n",
       "      <td>1.0</td>\n",
       "    </tr>\n",
       "  </tbody>\n",
       "</table>\n",
       "<p>112826 rows × 4 columns</p>\n",
       "</div>"
      ],
      "text/plain": [
       "            lat      lon         zipcode  crimes\n",
       "0        40.676 -73.7353           11422     5.0\n",
       "1        40.676 -73.7353  SEARCH FAILURE     5.0\n",
       "2       40.8042 -73.9648           10025   188.0\n",
       "3       40.6705 -73.8826           11208    65.0\n",
       "4        40.822 -73.9389           10039   266.0\n",
       "...         ...      ...             ...     ...\n",
       "112821  40.6475 -73.9803           11218     1.0\n",
       "112822  40.6076 -74.1358           10314     1.0\n",
       "112823  40.6166 -73.9745           11230     1.0\n",
       "112824  40.6768 -73.9604           11238     1.0\n",
       "112825  40.5469 -74.1421           10308     1.0\n",
       "\n",
       "[112826 rows x 4 columns]"
      ]
     },
     "execution_count": 53,
     "metadata": {},
     "output_type": "execute_result"
    }
   ],
   "source": [
    "df_zips = pd.DataFrame([pl_lat, pl_lon, pl_zip]).T\n",
    "df_zips = df_zips.rename(index=str, columns={0: 'lat', 1: 'lon', 2: 'zipcode'})\n",
    "#df_merged = df_zips.merge(crime_latlon_df.iloc[start_index:end_index], on=['lat','lon'])\n",
    "df_merged = df_zips.merge(crime_latlon_df, on=['lat','lon'])\n",
    "\n",
    "df_merged"
   ]
  },
  {
   "cell_type": "markdown",
   "metadata": {},
   "source": [
    "Aggregate crime counts at the zipcode level"
   ]
  },
  {
   "cell_type": "code",
   "execution_count": 238,
   "metadata": {
    "collapsed": false
   },
   "outputs": [
    {
     "data": {
      "text/html": [
       "<div>\n",
       "<table border=\"1\" class=\"dataframe\">\n",
       "  <thead>\n",
       "    <tr style=\"text-align: right;\">\n",
       "      <th></th>\n",
       "      <th>crimes</th>\n",
       "    </tr>\n",
       "    <tr>\n",
       "      <th>zipcode</th>\n",
       "      <th></th>\n",
       "    </tr>\n",
       "  </thead>\n",
       "  <tbody>\n",
       "    <tr>\n",
       "      <th>00083</th>\n",
       "      <td>4834.0</td>\n",
       "    </tr>\n",
       "    <tr>\n",
       "      <th>10001</th>\n",
       "      <td>75590.0</td>\n",
       "    </tr>\n",
       "    <tr>\n",
       "      <th>10002</th>\n",
       "      <td>52297.0</td>\n",
       "    </tr>\n",
       "    <tr>\n",
       "      <th>10003</th>\n",
       "      <td>54137.0</td>\n",
       "    </tr>\n",
       "    <tr>\n",
       "      <th>10004</th>\n",
       "      <td>4323.0</td>\n",
       "    </tr>\n",
       "    <tr>\n",
       "      <th>...</th>\n",
       "      <td>...</td>\n",
       "    </tr>\n",
       "    <tr>\n",
       "      <th>11692</th>\n",
       "      <td>9815.0</td>\n",
       "    </tr>\n",
       "    <tr>\n",
       "      <th>11693</th>\n",
       "      <td>8895.0</td>\n",
       "    </tr>\n",
       "    <tr>\n",
       "      <th>11694</th>\n",
       "      <td>7797.0</td>\n",
       "    </tr>\n",
       "    <tr>\n",
       "      <th>11697</th>\n",
       "      <td>749.0</td>\n",
       "    </tr>\n",
       "    <tr>\n",
       "      <th>ZIP_NOT_FOUND</th>\n",
       "      <td>328.0</td>\n",
       "    </tr>\n",
       "  </tbody>\n",
       "</table>\n",
       "<p>192 rows × 1 columns</p>\n",
       "</div>"
      ],
      "text/plain": [
       "                crimes\n",
       "zipcode               \n",
       "00083           4834.0\n",
       "10001          75590.0\n",
       "10002          52297.0\n",
       "10003          54137.0\n",
       "10004           4323.0\n",
       "...                ...\n",
       "11692           9815.0\n",
       "11693           8895.0\n",
       "11694           7797.0\n",
       "11697            749.0\n",
       "ZIP_NOT_FOUND    328.0\n",
       "\n",
       "[192 rows x 1 columns]"
      ]
     },
     "execution_count": 238,
     "metadata": {},
     "output_type": "execute_result"
    }
   ],
   "source": [
    "df_merged.groupby('zipcode').sum()"
   ]
  },
  {
   "cell_type": "markdown",
   "metadata": {},
   "source": [
    "Save our (partial) lat-lon-zip data"
   ]
  },
  {
   "cell_type": "code",
   "execution_count": null,
   "metadata": {
    "collapsed": true
   },
   "outputs": [],
   "source": [
    "out_file_name = 'googplac_partial_crime_latlon_zips_' + str(start_index) + '_' + str(end_index-1) + '.csv'\n",
    "#out_file_name = 'googplac_crime_latlon_zips.csv'\n",
    "\n",
    "df_merged.to_csv(out_file_name)"
   ]
  },
  {
   "cell_type": "markdown",
   "metadata": {},
   "source": [
    "## Load Subway CSV"
   ]
  },
  {
   "cell_type": "code",
   "execution_count": null,
   "metadata": {
    "collapsed": true
   },
   "outputs": [],
   "source": [
    "subway_df = pd.read_csv('NYC_Transit_Subway_Entrance_And_Exit_Data.csv', header=0)\n",
    "subway_station_df = subway_df.groupby('Station Name').first()[['Station Latitude', 'Station Longitude', 'Station Location', 'Entrance Location']]"
   ]
  },
  {
   "cell_type": "markdown",
   "metadata": {
    "collapsed": false
   },
   "source": [
    "### Match zipcodes to latlon using Google Geocode API (only 356 of them)"
   ]
  },
  {
   "cell_type": "code",
   "execution_count": 117,
   "metadata": {
    "collapsed": false
   },
   "outputs": [
    {
     "name": "stderr",
     "output_type": "stream",
     "text": [
      "//anaconda/envs/mypy35/lib/python3.5/site-packages/pandas/computation/expressions.py:182: UserWarning: evaluating in Python space because the '*' operator is not supported by numexpr for the bool dtype, use '&' instead\n",
      "  unsupported[op_str]))\n",
      "//anaconda/envs/mypy35/lib/python3.5/site-packages/ipykernel/__main__.py:11: SettingWithCopyWarning: \n",
      "A value is trying to be set on a copy of a slice from a DataFrame\n",
      "\n",
      "See the caveats in the documentation: http://pandas.pydata.org/pandas-docs/stable/indexing.html#indexing-view-versus-copy\n"
     ]
    },
    {
     "data": {
      "text/html": [
       "<div>\n",
       "<table border=\"1\" class=\"dataframe\">\n",
       "  <thead>\n",
       "    <tr style=\"text-align: right;\">\n",
       "      <th></th>\n",
       "      <th>Station Latitude</th>\n",
       "      <th>Station Longitude</th>\n",
       "      <th>Station Location</th>\n",
       "      <th>Entrance Location</th>\n",
       "      <th>zipcodes</th>\n",
       "    </tr>\n",
       "    <tr>\n",
       "      <th>Station Name</th>\n",
       "      <th></th>\n",
       "      <th></th>\n",
       "      <th></th>\n",
       "      <th></th>\n",
       "      <th></th>\n",
       "    </tr>\n",
       "  </thead>\n",
       "  <tbody>\n",
       "    <tr>\n",
       "      <th>103rd St</th>\n",
       "      <td>40.796092</td>\n",
       "      <td>-73.961454</td>\n",
       "      <td>(40.796092, -73.961454)</td>\n",
       "      <td>(40.796263, -73.961610)</td>\n",
       "      <td>10025</td>\n",
       "    </tr>\n",
       "    <tr>\n",
       "      <th>104th St-102nd St</th>\n",
       "      <td>40.695178</td>\n",
       "      <td>-73.844330</td>\n",
       "      <td>(40.695178, -73.84433)</td>\n",
       "      <td>(40.695033, -73.843298)</td>\n",
       "      <td>11418</td>\n",
       "    </tr>\n",
       "    <tr>\n",
       "      <th>104th St-Oxford Av</th>\n",
       "      <td>40.681711</td>\n",
       "      <td>-73.837683</td>\n",
       "      <td>(40.681711, -73.837683)</td>\n",
       "      <td>(40.681994, -73.836742)</td>\n",
       "      <td>11417</td>\n",
       "    </tr>\n",
       "    <tr>\n",
       "      <th>110th St</th>\n",
       "      <td>40.795020</td>\n",
       "      <td>-73.944250</td>\n",
       "      <td>(40.79502, -73.94425)</td>\n",
       "      <td>(40.794804, -73.944613)</td>\n",
       "      <td>3243</td>\n",
       "    </tr>\n",
       "    <tr>\n",
       "      <th>110th St-Central Park North</th>\n",
       "      <td>40.799075</td>\n",
       "      <td>-73.951822</td>\n",
       "      <td>(40.799075, -73.951822)</td>\n",
       "      <td>(40.798497, -73.952672)</td>\n",
       "      <td>10026</td>\n",
       "    </tr>\n",
       "  </tbody>\n",
       "</table>\n",
       "</div>"
      ],
      "text/plain": [
       "                             Station Latitude  Station Longitude  \\\n",
       "Station Name                                                       \n",
       "103rd St                            40.796092         -73.961454   \n",
       "104th St-102nd St                   40.695178         -73.844330   \n",
       "104th St-Oxford Av                  40.681711         -73.837683   \n",
       "110th St                            40.795020         -73.944250   \n",
       "110th St-Central Park North         40.799075         -73.951822   \n",
       "\n",
       "                                    Station Location        Entrance Location  \\\n",
       "Station Name                                                                    \n",
       "103rd St                     (40.796092, -73.961454)  (40.796263, -73.961610)   \n",
       "104th St-102nd St             (40.695178, -73.84433)  (40.695033, -73.843298)   \n",
       "104th St-Oxford Av           (40.681711, -73.837683)  (40.681994, -73.836742)   \n",
       "110th St                       (40.79502, -73.94425)  (40.794804, -73.944613)   \n",
       "110th St-Central Park North  (40.799075, -73.951822)  (40.798497, -73.952672)   \n",
       "\n",
       "                            zipcodes  \n",
       "Station Name                          \n",
       "103rd St                       10025  \n",
       "104th St-102nd St              11418  \n",
       "104th St-Oxford Av             11417  \n",
       "110th St                        3243  \n",
       "110th St-Central Park North    10026  "
      ]
     },
     "execution_count": 117,
     "metadata": {},
     "output_type": "execute_result"
    }
   ],
   "source": [
    "a = (subway_station_df[['Station Latitude', \n",
    "                'Station Longitude']].values.astype(float))\n",
    "len(a)\n",
    "zipcodesDF = pd.DataFrame()\n",
    "subway_station_df['zipcodes'] = np.zeros(len(subway_station_df))\n",
    "for latlon in pd.DataFrame(a).drop_duplicates().values:\n",
    "    query = GoogGeocode(latlon[0],latlon[1], YOUR_API_KEY)\n",
    "    revgeo = query[\"results\"][0]['address_components'][-1]\n",
    "    #print (revgeo)\n",
    "    subway_station_df['zipcodes'][(subway_station_df['Station Latitude'] == latlon[0]) * \n",
    "           (subway_station_df['Station Longitude'] == latlon[1])] = revgeo['long_name']\n",
    "subway_station_df.head()"
   ]
  },
  {
   "cell_type": "markdown",
   "metadata": {},
   "source": [
    "### Reinstate the leading 0 that was deleted from some zipcodes"
   ]
  },
  {
   "cell_type": "code",
   "execution_count": 131,
   "metadata": {
    "collapsed": false
   },
   "outputs": [
    {
     "name": "stderr",
     "output_type": "stream",
     "text": [
      "//anaconda/envs/mypy35/lib/python3.5/site-packages/ipykernel/__main__.py:3: SettingWithCopyWarning: \n",
      "A value is trying to be set on a copy of a slice from a DataFrame\n",
      "\n",
      "See the caveats in the documentation: http://pandas.pydata.org/pandas-docs/stable/indexing.html#indexing-view-versus-copy\n",
      "  app.launch_new_instance()\n"
     ]
    }
   ],
   "source": [
    "for i in range(len(subway_station_df)):\n",
    "    if len(subway_station_df['zipcodes'][i]) == 4:\n",
    "        subway_station_df['zipcodes'][i] = '0' + subway_station_df['zipcodes'][i]\n"
   ]
  },
  {
   "cell_type": "code",
   "execution_count": 210,
   "metadata": {
    "collapsed": false
   },
   "outputs": [
    {
     "data": {
      "text/html": [
       "<div>\n",
       "<table border=\"1\" class=\"dataframe\">\n",
       "  <thead>\n",
       "    <tr style=\"text-align: right;\">\n",
       "      <th></th>\n",
       "      <th>Station Latitude</th>\n",
       "      <th>Station Longitude</th>\n",
       "      <th>Station Location</th>\n",
       "      <th>Entrance Location</th>\n",
       "      <th>zipcodes</th>\n",
       "    </tr>\n",
       "    <tr>\n",
       "      <th>Station Name</th>\n",
       "      <th></th>\n",
       "      <th></th>\n",
       "      <th></th>\n",
       "      <th></th>\n",
       "      <th></th>\n",
       "    </tr>\n",
       "  </thead>\n",
       "  <tbody>\n",
       "    <tr>\n",
       "      <th>82nd St-Jackson Heights</th>\n",
       "      <td>40.747659</td>\n",
       "      <td>-73.883697</td>\n",
       "      <td>(40.747659, -73.883697)</td>\n",
       "      <td>(40.747812, -73.883876)</td>\n",
       "      <td>11373</td>\n",
       "    </tr>\n",
       "    <tr>\n",
       "      <th>Elmhurst Av</th>\n",
       "      <td>40.742454</td>\n",
       "      <td>-73.882017</td>\n",
       "      <td>(40.742454, -73.882017)</td>\n",
       "      <td>(40.741729, -73.881135)</td>\n",
       "      <td>11373</td>\n",
       "    </tr>\n",
       "    <tr>\n",
       "      <th>Jackson Heights-Roosevelt Ave</th>\n",
       "      <td>40.746644</td>\n",
       "      <td>-73.891338</td>\n",
       "      <td>(40.746644, -73.891338)</td>\n",
       "      <td>(40.746784, -73.890958)</td>\n",
       "      <td>11373</td>\n",
       "    </tr>\n",
       "  </tbody>\n",
       "</table>\n",
       "</div>"
      ],
      "text/plain": [
       "                               Station Latitude  Station Longitude  \\\n",
       "Station Name                                                         \n",
       "82nd St-Jackson Heights               40.747659         -73.883697   \n",
       "Elmhurst Av                           40.742454         -73.882017   \n",
       "Jackson Heights-Roosevelt Ave         40.746644         -73.891338   \n",
       "\n",
       "                                      Station Location  \\\n",
       "Station Name                                             \n",
       "82nd St-Jackson Heights        (40.747659, -73.883697)   \n",
       "Elmhurst Av                    (40.742454, -73.882017)   \n",
       "Jackson Heights-Roosevelt Ave  (40.746644, -73.891338)   \n",
       "\n",
       "                                     Entrance Location zipcodes  \n",
       "Station Name                                                     \n",
       "82nd St-Jackson Heights        (40.747812, -73.883876)    11373  \n",
       "Elmhurst Av                    (40.741729, -73.881135)    11373  \n",
       "Jackson Heights-Roosevelt Ave  (40.746784, -73.890958)    11373  "
      ]
     },
     "execution_count": 210,
     "metadata": {},
     "output_type": "execute_result"
    }
   ],
   "source": [
    "subway_station_df[subway_station_df['zipcodes'] == '11373']"
   ]
  },
  {
   "cell_type": "code",
   "execution_count": 133,
   "metadata": {
    "collapsed": false
   },
   "outputs": [
    {
     "data": {
      "text/html": [
       "<div>\n",
       "<table border=\"1\" class=\"dataframe\">\n",
       "  <thead>\n",
       "    <tr style=\"text-align: right;\">\n",
       "      <th></th>\n",
       "      <th>Station Latitude</th>\n",
       "      <th>Station Longitude</th>\n",
       "      <th>Station Location</th>\n",
       "      <th>Entrance Location</th>\n",
       "      <th>zipcodes</th>\n",
       "    </tr>\n",
       "    <tr>\n",
       "      <th>Station Name</th>\n",
       "      <th></th>\n",
       "      <th></th>\n",
       "      <th></th>\n",
       "      <th></th>\n",
       "      <th></th>\n",
       "    </tr>\n",
       "  </thead>\n",
       "  <tbody>\n",
       "    <tr>\n",
       "      <th>103rd St</th>\n",
       "      <td>40.796092</td>\n",
       "      <td>-73.961454</td>\n",
       "      <td>(40.796092, -73.961454)</td>\n",
       "      <td>(40.796263, -73.961610)</td>\n",
       "      <td>10025</td>\n",
       "    </tr>\n",
       "    <tr>\n",
       "      <th>104th St-102nd St</th>\n",
       "      <td>40.695178</td>\n",
       "      <td>-73.844330</td>\n",
       "      <td>(40.695178, -73.84433)</td>\n",
       "      <td>(40.695033, -73.843298)</td>\n",
       "      <td>11418</td>\n",
       "    </tr>\n",
       "    <tr>\n",
       "      <th>104th St-Oxford Av</th>\n",
       "      <td>40.681711</td>\n",
       "      <td>-73.837683</td>\n",
       "      <td>(40.681711, -73.837683)</td>\n",
       "      <td>(40.681994, -73.836742)</td>\n",
       "      <td>11417</td>\n",
       "    </tr>\n",
       "    <tr>\n",
       "      <th>110th St</th>\n",
       "      <td>40.795020</td>\n",
       "      <td>-73.944250</td>\n",
       "      <td>(40.79502, -73.94425)</td>\n",
       "      <td>(40.794804, -73.944613)</td>\n",
       "      <td>03243</td>\n",
       "    </tr>\n",
       "    <tr>\n",
       "      <th>110th St-Central Park North</th>\n",
       "      <td>40.799075</td>\n",
       "      <td>-73.951822</td>\n",
       "      <td>(40.799075, -73.951822)</td>\n",
       "      <td>(40.798497, -73.952672)</td>\n",
       "      <td>10026</td>\n",
       "    </tr>\n",
       "    <tr>\n",
       "      <th>...</th>\n",
       "      <td>...</td>\n",
       "      <td>...</td>\n",
       "      <td>...</td>\n",
       "      <td>...</td>\n",
       "      <td>...</td>\n",
       "    </tr>\n",
       "    <tr>\n",
       "      <th>Woodside Av-61st St</th>\n",
       "      <td>40.745630</td>\n",
       "      <td>-73.902984</td>\n",
       "      <td>(40.74563, -73.902984)</td>\n",
       "      <td>(40.745531, -73.903248)</td>\n",
       "      <td>11377</td>\n",
       "    </tr>\n",
       "    <tr>\n",
       "      <th>World Trade Center</th>\n",
       "      <td>40.712582</td>\n",
       "      <td>-74.009781</td>\n",
       "      <td>(40.712582, -74.009781)</td>\n",
       "      <td>(40.713333, -74.009033)</td>\n",
       "      <td>10007</td>\n",
       "    </tr>\n",
       "    <tr>\n",
       "      <th>Yankee Stadium-161st St</th>\n",
       "      <td>40.827905</td>\n",
       "      <td>-73.925651</td>\n",
       "      <td>(40.827905, -73.925651)</td>\n",
       "      <td>(40.827840, -73.925715)</td>\n",
       "      <td>10452</td>\n",
       "    </tr>\n",
       "    <tr>\n",
       "      <th>York St</th>\n",
       "      <td>40.699743</td>\n",
       "      <td>-73.986885</td>\n",
       "      <td>(40.699743, -73.986885)</td>\n",
       "      <td>(40.701380, -73.986655)</td>\n",
       "      <td>11201</td>\n",
       "    </tr>\n",
       "    <tr>\n",
       "      <th>Zerega Av</th>\n",
       "      <td>40.836488</td>\n",
       "      <td>-73.847036</td>\n",
       "      <td>(40.836488, -73.847036)</td>\n",
       "      <td>(40.836954, -73.846653)</td>\n",
       "      <td>10462</td>\n",
       "    </tr>\n",
       "  </tbody>\n",
       "</table>\n",
       "<p>356 rows × 5 columns</p>\n",
       "</div>"
      ],
      "text/plain": [
       "                             Station Latitude  Station Longitude  \\\n",
       "Station Name                                                       \n",
       "103rd St                            40.796092         -73.961454   \n",
       "104th St-102nd St                   40.695178         -73.844330   \n",
       "104th St-Oxford Av                  40.681711         -73.837683   \n",
       "110th St                            40.795020         -73.944250   \n",
       "110th St-Central Park North         40.799075         -73.951822   \n",
       "...                                       ...                ...   \n",
       "Woodside Av-61st St                 40.745630         -73.902984   \n",
       "World Trade Center                  40.712582         -74.009781   \n",
       "Yankee Stadium-161st St             40.827905         -73.925651   \n",
       "York St                             40.699743         -73.986885   \n",
       "Zerega Av                           40.836488         -73.847036   \n",
       "\n",
       "                                    Station Location        Entrance Location  \\\n",
       "Station Name                                                                    \n",
       "103rd St                     (40.796092, -73.961454)  (40.796263, -73.961610)   \n",
       "104th St-102nd St             (40.695178, -73.84433)  (40.695033, -73.843298)   \n",
       "104th St-Oxford Av           (40.681711, -73.837683)  (40.681994, -73.836742)   \n",
       "110th St                       (40.79502, -73.94425)  (40.794804, -73.944613)   \n",
       "110th St-Central Park North  (40.799075, -73.951822)  (40.798497, -73.952672)   \n",
       "...                                              ...                      ...   \n",
       "Woodside Av-61st St           (40.74563, -73.902984)  (40.745531, -73.903248)   \n",
       "World Trade Center           (40.712582, -74.009781)  (40.713333, -74.009033)   \n",
       "Yankee Stadium-161st St      (40.827905, -73.925651)  (40.827840, -73.925715)   \n",
       "York St                      (40.699743, -73.986885)  (40.701380, -73.986655)   \n",
       "Zerega Av                    (40.836488, -73.847036)  (40.836954, -73.846653)   \n",
       "\n",
       "                            zipcodes  \n",
       "Station Name                          \n",
       "103rd St                       10025  \n",
       "104th St-102nd St              11418  \n",
       "104th St-Oxford Av             11417  \n",
       "110th St                       03243  \n",
       "110th St-Central Park North    10026  \n",
       "...                              ...  \n",
       "Woodside Av-61st St            11377  \n",
       "World Trade Center             10007  \n",
       "Yankee Stadium-161st St        10452  \n",
       "York St                        11201  \n",
       "Zerega Av                      10462  \n",
       "\n",
       "[356 rows x 5 columns]"
      ]
     },
     "execution_count": 133,
     "metadata": {},
     "output_type": "execute_result"
    }
   ],
   "source": [
    "subway_station_df"
   ]
  },
  {
   "cell_type": "markdown",
   "metadata": {},
   "source": [
    "### Save our results to CSV"
   ]
  }
 ],
 "metadata": {
  "anaconda-cloud": {},
  "kernelspec": {
   "display_name": "Python [mypy35]",
   "language": "python",
   "name": "Python [mypy35]"
  },
  "language_info": {
   "codemirror_mode": {
    "name": "ipython",
    "version": 3
   },
   "file_extension": ".py",
   "mimetype": "text/x-python",
   "name": "python",
   "nbconvert_exporter": "python",
   "pygments_lexer": "ipython3",
   "version": "3.5.2"
  }
 },
 "nbformat": 4,
 "nbformat_minor": 0
}
