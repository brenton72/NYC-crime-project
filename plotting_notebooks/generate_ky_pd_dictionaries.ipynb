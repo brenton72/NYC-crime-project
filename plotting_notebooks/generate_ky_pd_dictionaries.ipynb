{
 "cells": [
  {
   "cell_type": "code",
   "execution_count": 23,
   "metadata": {
    "collapsed": true
   },
   "outputs": [],
   "source": [
    "import pandas as pd\n",
    "import numpy as np\n",
    "import json"
   ]
  },
  {
   "cell_type": "code",
   "execution_count": 79,
   "metadata": {
    "collapsed": false
   },
   "outputs": [
    {
     "data": {
      "text/html": [
       "<div>\n",
       "<table border=\"1\" class=\"dataframe\">\n",
       "  <thead>\n",
       "    <tr style=\"text-align: right;\">\n",
       "      <th></th>\n",
       "      <th>0</th>\n",
       "      <th>1</th>\n",
       "      <th>2</th>\n",
       "      <th>3</th>\n",
       "    </tr>\n",
       "  </thead>\n",
       "  <tbody>\n",
       "    <tr>\n",
       "      <th>1</th>\n",
       "      <td>102</td>\n",
       "      <td>'HOMICIDE-NEGLIGENT-VEHICLE'</td>\n",
       "      <td>121</td>\n",
       "      <td>15</td>\n",
       "    </tr>\n",
       "    <tr>\n",
       "      <th>2</th>\n",
       "      <td>102</td>\n",
       "      <td>'HOMICIDE-NEGLIGENT-VEHICLE'</td>\n",
       "      <td>122</td>\n",
       "      <td>78</td>\n",
       "    </tr>\n",
       "    <tr>\n",
       "      <th>3</th>\n",
       "      <td>103</td>\n",
       "      <td>'HOMICIDE-NEGLIGENT UNCLASSIFIE'</td>\n",
       "      <td>125</td>\n",
       "      <td>33</td>\n",
       "    </tr>\n",
       "    <tr>\n",
       "      <th>4</th>\n",
       "      <td>104</td>\n",
       "      <td>'RAPE'</td>\n",
       "      <td>153</td>\n",
       "      <td>1821</td>\n",
       "    </tr>\n",
       "    <tr>\n",
       "      <th>5</th>\n",
       "      <td>104</td>\n",
       "      <td>'RAPE'</td>\n",
       "      <td>155</td>\n",
       "      <td>1605</td>\n",
       "    </tr>\n",
       "  </tbody>\n",
       "</table>\n",
       "</div>"
      ],
      "text/plain": [
       "     0                                  1    2     3\n",
       "1  102       'HOMICIDE-NEGLIGENT-VEHICLE'  121    15\n",
       "2  102       'HOMICIDE-NEGLIGENT-VEHICLE'  122    78\n",
       "3  103   'HOMICIDE-NEGLIGENT UNCLASSIFIE'  125    33\n",
       "4  104                             'RAPE'  153  1821\n",
       "5  104                             'RAPE'  155  1605"
      ]
     },
     "execution_count": 79,
     "metadata": {},
     "output_type": "execute_result"
    }
   ],
   "source": [
    "codes_df = pd.read_csv('by_codes.out', header=None, sep=',')\n",
    "codes_df.drop(0, inplace=True)\n",
    "codes_df[0] = codes_df[0].map(str)\n",
    "codes_df[2] = codes_df[2].map(str)\n",
    "codes_df.head()"
   ]
  },
  {
   "cell_type": "code",
   "execution_count": 80,
   "metadata": {
    "collapsed": false
   },
   "outputs": [
    {
     "data": {
      "text/html": [
       "<div>\n",
       "<table border=\"1\" class=\"dataframe\">\n",
       "  <thead>\n",
       "    <tr style=\"text-align: right;\">\n",
       "      <th></th>\n",
       "      <th>2</th>\n",
       "    </tr>\n",
       "    <tr>\n",
       "      <th>0</th>\n",
       "      <th></th>\n",
       "    </tr>\n",
       "  </thead>\n",
       "  <tbody>\n",
       "    <tr>\n",
       "      <th>102</th>\n",
       "      <td>[121, 122]</td>\n",
       "    </tr>\n",
       "    <tr>\n",
       "      <th>103</th>\n",
       "      <td>[125]</td>\n",
       "    </tr>\n",
       "    <tr>\n",
       "      <th>104</th>\n",
       "      <td>[153, 155, 157, 159]</td>\n",
       "    </tr>\n",
       "    <tr>\n",
       "      <th>105</th>\n",
       "      <td>[419, 360, 361, 363, 365, 366, 367, 371, 373, ...</td>\n",
       "    </tr>\n",
       "    <tr>\n",
       "      <th>106</th>\n",
       "      <td>[101, 186, 321, 639, 749, 759, 779, 105, 106, ...</td>\n",
       "    </tr>\n",
       "  </tbody>\n",
       "</table>\n",
       "</div>"
      ],
      "text/plain": [
       "                                                     2\n",
       "0                                                     \n",
       "102                                         [121, 122]\n",
       "103                                              [125]\n",
       "104                               [153, 155, 157, 159]\n",
       "105  [419, 360, 361, 363, 365, 366, 367, 371, 373, ...\n",
       "106  [101, 186, 321, 639, 749, 759, 779, 105, 106, ..."
      ]
     },
     "execution_count": 80,
     "metadata": {},
     "output_type": "execute_result"
    }
   ],
   "source": [
    "#For each KY_CD, list all associated PD_CD\n",
    "ky_to_pd = codes_df.groupby(0).agg({2: lambda x: ','.join(x)})\n",
    "ky_to_pd[2] = ky_to_pd[2].map(lambda x: x.split(','))\n",
    "ky_to_pd.head()"
   ]
  },
  {
   "cell_type": "code",
   "execution_count": 81,
   "metadata": {
    "collapsed": false
   },
   "outputs": [
    {
     "data": {
      "text/html": [
       "<div>\n",
       "<table border=\"1\" class=\"dataframe\">\n",
       "  <thead>\n",
       "    <tr style=\"text-align: right;\">\n",
       "      <th></th>\n",
       "      <th>0</th>\n",
       "    </tr>\n",
       "    <tr>\n",
       "      <th>2</th>\n",
       "      <th></th>\n",
       "    </tr>\n",
       "  </thead>\n",
       "  <tbody>\n",
       "    <tr>\n",
       "      <th>101</th>\n",
       "      <td>[106, 344, 359, 578]</td>\n",
       "    </tr>\n",
       "    <tr>\n",
       "      <th>104</th>\n",
       "      <td>[126]</td>\n",
       "    </tr>\n",
       "    <tr>\n",
       "      <th>105</th>\n",
       "      <td>[106]</td>\n",
       "    </tr>\n",
       "    <tr>\n",
       "      <th>106</th>\n",
       "      <td>[106]</td>\n",
       "    </tr>\n",
       "    <tr>\n",
       "      <th>107</th>\n",
       "      <td>[126]</td>\n",
       "    </tr>\n",
       "  </tbody>\n",
       "</table>\n",
       "</div>"
      ],
      "text/plain": [
       "                        0\n",
       "2                        \n",
       "101  [106, 344, 359, 578]\n",
       "104                 [126]\n",
       "105                 [106]\n",
       "106                 [106]\n",
       "107                 [126]"
      ]
     },
     "execution_count": 81,
     "metadata": {},
     "output_type": "execute_result"
    }
   ],
   "source": [
    "#For each PD_CD, list all associated KY_CD\n",
    "pd_to_ky = codes_df.groupby(2).agg({0: lambda x: ','.join(x)})\n",
    "pd_to_ky[0] = pd_to_ky[0].map(lambda x: x.split(','))\n",
    "pd_to_ky.head()"
   ]
  },
  {
   "cell_type": "code",
   "execution_count": 82,
   "metadata": {
    "collapsed": false
   },
   "outputs": [
    {
     "data": {
      "text/html": [
       "<div>\n",
       "<table border=\"1\" class=\"dataframe\">\n",
       "  <thead>\n",
       "    <tr style=\"text-align: right;\">\n",
       "      <th></th>\n",
       "      <th>0</th>\n",
       "    </tr>\n",
       "    <tr>\n",
       "      <th>2</th>\n",
       "      <th></th>\n",
       "    </tr>\n",
       "  </thead>\n",
       "  <tbody>\n",
       "    <tr>\n",
       "      <th>101</th>\n",
       "      <td>[106, 344, 359, 578]</td>\n",
       "    </tr>\n",
       "    <tr>\n",
       "      <th>109</th>\n",
       "      <td>[106, 344]</td>\n",
       "    </tr>\n",
       "    <tr>\n",
       "      <th>113</th>\n",
       "      <td>[126, 344, 578]</td>\n",
       "    </tr>\n",
       "    <tr>\n",
       "      <th>117</th>\n",
       "      <td>[116, 126, 355]</td>\n",
       "    </tr>\n",
       "    <tr>\n",
       "      <th>157</th>\n",
       "      <td>[104, 233]</td>\n",
       "    </tr>\n",
       "  </tbody>\n",
       "</table>\n",
       "</div>"
      ],
      "text/plain": [
       "                        0\n",
       "2                        \n",
       "101  [106, 344, 359, 578]\n",
       "109            [106, 344]\n",
       "113       [126, 344, 578]\n",
       "117       [116, 126, 355]\n",
       "157            [104, 233]"
      ]
     },
     "execution_count": 82,
     "metadata": {},
     "output_type": "execute_result"
    }
   ],
   "source": [
    "#Check if a PC_CD has 2+ KY_CDs it is associated with\n",
    "mask = [False]*len(pd_to_ky)\n",
    "for i in range(len(mask)):\n",
    "    if len(pd_to_ky[0][i]) > 1:\n",
    "        mask[i] = True\n",
    "pd_to_ky[mask].head()"
   ]
  },
  {
   "cell_type": "code",
   "execution_count": 83,
   "metadata": {
    "collapsed": false
   },
   "outputs": [
    {
     "data": {
      "text/html": [
       "<div>\n",
       "<table border=\"1\" class=\"dataframe\">\n",
       "  <thead>\n",
       "    <tr style=\"text-align: right;\">\n",
       "      <th></th>\n",
       "      <th>0</th>\n",
       "      <th>1</th>\n",
       "      <th>2</th>\n",
       "      <th>3</th>\n",
       "    </tr>\n",
       "  </thead>\n",
       "  <tbody>\n",
       "    <tr>\n",
       "      <th>1</th>\n",
       "      <td>102</td>\n",
       "      <td>'HOMICIDE-NEGLIGENT-VEHICLE'</td>\n",
       "      <td>121</td>\n",
       "      <td>15</td>\n",
       "    </tr>\n",
       "    <tr>\n",
       "      <th>2</th>\n",
       "      <td>102</td>\n",
       "      <td>'HOMICIDE-NEGLIGENT-VEHICLE'</td>\n",
       "      <td>122</td>\n",
       "      <td>78</td>\n",
       "    </tr>\n",
       "    <tr>\n",
       "      <th>3</th>\n",
       "      <td>103</td>\n",
       "      <td>'HOMICIDE-NEGLIGENT UNCLASSIFIE'</td>\n",
       "      <td>125</td>\n",
       "      <td>33</td>\n",
       "    </tr>\n",
       "    <tr>\n",
       "      <th>4</th>\n",
       "      <td>104</td>\n",
       "      <td>'RAPE'</td>\n",
       "      <td>153</td>\n",
       "      <td>1821</td>\n",
       "    </tr>\n",
       "    <tr>\n",
       "      <th>5</th>\n",
       "      <td>104</td>\n",
       "      <td>'RAPE'</td>\n",
       "      <td>155</td>\n",
       "      <td>1605</td>\n",
       "    </tr>\n",
       "    <tr>\n",
       "      <th>6</th>\n",
       "      <td>104</td>\n",
       "      <td>'RAPE'</td>\n",
       "      <td>157</td>\n",
       "      <td>8939</td>\n",
       "    </tr>\n",
       "    <tr>\n",
       "      <th>7</th>\n",
       "      <td>104</td>\n",
       "      <td>'RAPE'</td>\n",
       "      <td>159</td>\n",
       "      <td>1426</td>\n",
       "    </tr>\n",
       "    <tr>\n",
       "      <th>9</th>\n",
       "      <td>105</td>\n",
       "      <td>'ROBBERY'</td>\n",
       "      <td>360</td>\n",
       "      <td>396</td>\n",
       "    </tr>\n",
       "    <tr>\n",
       "      <th>10</th>\n",
       "      <td>105</td>\n",
       "      <td>'ROBBERY'</td>\n",
       "      <td>361</td>\n",
       "      <td>3104</td>\n",
       "    </tr>\n",
       "    <tr>\n",
       "      <th>11</th>\n",
       "      <td>105</td>\n",
       "      <td>'ROBBERY'</td>\n",
       "      <td>363</td>\n",
       "      <td>333</td>\n",
       "    </tr>\n",
       "  </tbody>\n",
       "</table>\n",
       "</div>"
      ],
      "text/plain": [
       "      0                                  1    2     3\n",
       "1   102       'HOMICIDE-NEGLIGENT-VEHICLE'  121    15\n",
       "2   102       'HOMICIDE-NEGLIGENT-VEHICLE'  122    78\n",
       "3   103   'HOMICIDE-NEGLIGENT UNCLASSIFIE'  125    33\n",
       "4   104                             'RAPE'  153  1821\n",
       "5   104                             'RAPE'  155  1605\n",
       "6   104                             'RAPE'  157  8939\n",
       "7   104                             'RAPE'  159  1426\n",
       "9   105                          'ROBBERY'  360   396\n",
       "10  105                          'ROBBERY'  361  3104\n",
       "11  105                          'ROBBERY'  363   333"
      ]
     },
     "execution_count": 83,
     "metadata": {},
     "output_type": "execute_result"
    }
   ],
   "source": [
    "#drop any KY_CD-PC_CD combinations where the PC_CD is associated with 2+ KY_CDs\n",
    "#and less than 5 crimes used that KY_CD-PC_CD combination\n",
    "drop_list = []\n",
    "for ids in pd_to_ky[mask].index.values:\n",
    "    mask1 = codes_df[2] == ids\n",
    "    mask2 = codes_df[3] < 5\n",
    "    mask3 = mask1&mask2\n",
    "    drop_list.extend(codes_df[mask3].index.values)\n",
    "\n",
    "for i in range(len(drop_list)):\n",
    "    codes_df = codes_df.drop(drop_list[i])\n",
    "codes_df.iloc[0:10]"
   ]
  },
  {
   "cell_type": "code",
   "execution_count": 84,
   "metadata": {
    "collapsed": true
   },
   "outputs": [],
   "source": [
    "#Run again now that we have removed outliers\n",
    "ky_to_pd = codes_df.groupby(0).agg({2: lambda x: ','.join(x)})\n",
    "ky_to_pd[2] = ky_to_pd[2].map(lambda x: x.split(','))\n",
    "\n",
    "pd_to_ky = codes_df.groupby(2).agg({0: lambda x: ','.join(x)})\n",
    "pd_to_ky[0] = pd_to_ky[0].map(lambda x: x.split(','))\n"
   ]
  },
  {
   "cell_type": "code",
   "execution_count": 89,
   "metadata": {
    "collapsed": true
   },
   "outputs": [],
   "source": [
    "#Save as dictionaries\n",
    "ky_to_pd_dict = ky_to_pd.to_dict()\n",
    "ky_to_pd_dict = ky_to_pd_dict[2]\n",
    "pd_to_ky_dict = pd_to_ky.to_dict()\n",
    "pd_to_ky_dict = pd_to_ky_dict[0]"
   ]
  },
  {
   "cell_type": "code",
   "execution_count": 86,
   "metadata": {
    "collapsed": true
   },
   "outputs": [],
   "source": [
    "#Save dictionaries\n",
    "json.dump(pd_to_ky_dict, open(\"pd_to_ky_dict.txt\",'w'))\n",
    "json.dump(ky_to_pd_dict, open(\"ky_to_pd_dict.txt\",'w'))"
   ]
  },
  {
   "cell_type": "code",
   "execution_count": 92,
   "metadata": {
    "collapsed": false
   },
   "outputs": [
    {
     "data": {
      "text/plain": [
       "5096515"
      ]
     },
     "execution_count": 92,
     "metadata": {},
     "output_type": "execute_result"
    }
   ],
   "source": [
    "#Check expected number of valid KY_CDs\n",
    "valid_count = 0\n",
    "for entry in codes_df.index:\n",
    "    if codes_df[0][entry] in pd_to_ky_dict[codes_df[2][entry]]:\n",
    "        valid_count = valid_count + codes_df[3][entry]\n",
    "valid_count"
   ]
  },
  {
   "cell_type": "code",
   "execution_count": 93,
   "metadata": {
    "collapsed": false
   },
   "outputs": [
    {
     "data": {
      "text/plain": [
       "5096515"
      ]
     },
     "execution_count": 93,
     "metadata": {},
     "output_type": "execute_result"
    }
   ],
   "source": [
    "#Check expected number of valid PD_CDs\n",
    "valid_count = 0\n",
    "for entry in codes_df.index:\n",
    "    if codes_df[2][entry] in ky_to_pd_dict[codes_df[0][entry]]:\n",
    "        valid_count = valid_count + codes_df[3][entry]\n",
    "valid_count"
   ]
  }
 ],
 "metadata": {
  "anaconda-cloud": {},
  "kernelspec": {
   "display_name": "Python [mypy27]",
   "language": "python",
   "name": "Python [mypy27]"
  },
  "language_info": {
   "codemirror_mode": {
    "name": "ipython",
    "version": 2
   },
   "file_extension": ".py",
   "mimetype": "text/x-python",
   "name": "python",
   "nbconvert_exporter": "python",
   "pygments_lexer": "ipython2",
   "version": "2.7.12"
  }
 },
 "nbformat": 4,
 "nbformat_minor": 0
}
